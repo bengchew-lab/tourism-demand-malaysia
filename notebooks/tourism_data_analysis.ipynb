{
    "cells": [
        {
            "cell_type": "code",
            "execution_count": 44,
            "source": [
                "import pandas as pd\r\n",
                "import numpy as np\r\n",
                "import plotly.express as px\r\n",
                "import plotly.graph_objects as go\r\n",
                "from plotly.subplots import make_subplots\r\n",
                "import statsmodels.tsa.stattools as ts\r\n"
            ],
            "outputs": [],
            "metadata": {}
        },
        {
            "cell_type": "code",
            "execution_count": 2,
            "source": [
                "# read raw tourism file\r\n",
                "data_dir = \"C:/Users/benlc/OneDrive/Desktop/python_learn/tourism-demand-malaysia/data/raw/\"\r\n",
                "tourism_raw = pd.read_csv(data_dir+\"Tourist Arrivals _ Tourism Malaysia [2021-Aug-31 03.22 AM].csv\",nrows=21)\r\n",
                "tourism_raw.tail()"
            ],
            "outputs": [
                {
                    "output_type": "execute_result",
                    "data": {
                        "text/plain": [
                            "    Year Destination  Jan - No. of Arrivals  Feb - No. of Arrivals  \\\n",
                            "16  2016    Malaysia                2376166                2091098   \n",
                            "17  2017    Malaysia                2350270                2043215   \n",
                            "18  2018    Malaysia                2276750                2050613   \n",
                            "19  2019    Malaysia                2195684                2165933   \n",
                            "20  2020    Malaysia                2164459                1397912   \n",
                            "\n",
                            "    Mar - No. of Arrivals  Apr - No. of Arrivals  May - No. of Arrivals  \\\n",
                            "16                2198716                2101280                2144119   \n",
                            "17                2238184                2145734                2039016   \n",
                            "18                2192855                1957248                1976981   \n",
                            "19                2334613                2159517                2098267   \n",
                            "20                 671084                   7546                   5411   \n",
                            "\n",
                            "    Jun - No. of Arrivals  Jul - No. of Arrivals  Aug - No. of Arrivals  ...  \\\n",
                            "16                2121396                2296615                2282173  ...   \n",
                            "17                2134647                2263478                2129013  ...   \n",
                            "18                2275921                2305324                2253534  ...   \n",
                            "19                2400561                2415097                2342438  ...   \n",
                            "20                   6585                  18660                  11631  ...   \n",
                            "\n",
                            "    Mar - Percentage Change Year on Year  \\\n",
                            "16                             -1.933966   \n",
                            "17                              1.795048   \n",
                            "18                             -2.025258   \n",
                            "19                              6.464541   \n",
                            "20                            -71.255022   \n",
                            "\n",
                            "    Apr - Percentage Change Year on Year  \\\n",
                            "16                              1.416945   \n",
                            "17                              2.115568   \n",
                            "18                             -8.784220   \n",
                            "19                             10.334357   \n",
                            "20                            -99.650570   \n",
                            "\n",
                            "    May - Percentage Change Year on Year  \\\n",
                            "16                              1.190671   \n",
                            "17                             -4.901920   \n",
                            "18                             -3.042399   \n",
                            "19                              6.134910   \n",
                            "20                            -99.742121   \n",
                            "\n",
                            "    Jun - Percentage Change Year on Year  \\\n",
                            "16                             12.018427   \n",
                            "17                              0.624636   \n",
                            "18                              6.618143   \n",
                            "19                              5.476464   \n",
                            "20                            -99.725689   \n",
                            "\n",
                            "    Jul - Percentage Change Year on Year  \\\n",
                            "16                              3.635569   \n",
                            "17                             -1.442863   \n",
                            "18                              1.848748   \n",
                            "19                              4.761717   \n",
                            "20                            -99.227360   \n",
                            "\n",
                            "    Aug - Percentage Change Year on Year  \\\n",
                            "16                              4.565194   \n",
                            "17                             -6.711148   \n",
                            "18                              5.848767   \n",
                            "19                              3.945092   \n",
                            "20                            -99.503466   \n",
                            "\n",
                            "    Sep - Percentage Change Year on Year  \\\n",
                            "16                              1.632556   \n",
                            "17                             -1.226841   \n",
                            "18                              0.215592   \n",
                            "19                             -4.759241   \n",
                            "20                            -99.192276   \n",
                            "\n",
                            "    Oct - Percentage Change Year on Year  \\\n",
                            "16                             11.696432   \n",
                            "17                            -11.067846   \n",
                            "18                              1.690676   \n",
                            "19                             -3.459024   \n",
                            "20                            -99.442940   \n",
                            "\n",
                            "    Nov - Percentage Change Year on Year  Dec - Percentage Change Year on Year  \n",
                            "16                              2.467758                              2.451860  \n",
                            "17                             -2.249089                             -7.981155  \n",
                            "18                             -0.902556                             -3.413665  \n",
                            "19                             -1.031589                            -15.360934  \n",
                            "20                            -99.420103                            -99.469230  \n",
                            "\n",
                            "[5 rows x 26 columns]"
                        ],
                        "text/html": [
                            "<div>\n",
                            "<style scoped>\n",
                            "    .dataframe tbody tr th:only-of-type {\n",
                            "        vertical-align: middle;\n",
                            "    }\n",
                            "\n",
                            "    .dataframe tbody tr th {\n",
                            "        vertical-align: top;\n",
                            "    }\n",
                            "\n",
                            "    .dataframe thead th {\n",
                            "        text-align: right;\n",
                            "    }\n",
                            "</style>\n",
                            "<table border=\"1\" class=\"dataframe\">\n",
                            "  <thead>\n",
                            "    <tr style=\"text-align: right;\">\n",
                            "      <th></th>\n",
                            "      <th>Year</th>\n",
                            "      <th>Destination</th>\n",
                            "      <th>Jan - No. of Arrivals</th>\n",
                            "      <th>Feb - No. of Arrivals</th>\n",
                            "      <th>Mar - No. of Arrivals</th>\n",
                            "      <th>Apr - No. of Arrivals</th>\n",
                            "      <th>May - No. of Arrivals</th>\n",
                            "      <th>Jun - No. of Arrivals</th>\n",
                            "      <th>Jul - No. of Arrivals</th>\n",
                            "      <th>Aug - No. of Arrivals</th>\n",
                            "      <th>...</th>\n",
                            "      <th>Mar - Percentage Change Year on Year</th>\n",
                            "      <th>Apr - Percentage Change Year on Year</th>\n",
                            "      <th>May - Percentage Change Year on Year</th>\n",
                            "      <th>Jun - Percentage Change Year on Year</th>\n",
                            "      <th>Jul - Percentage Change Year on Year</th>\n",
                            "      <th>Aug - Percentage Change Year on Year</th>\n",
                            "      <th>Sep - Percentage Change Year on Year</th>\n",
                            "      <th>Oct - Percentage Change Year on Year</th>\n",
                            "      <th>Nov - Percentage Change Year on Year</th>\n",
                            "      <th>Dec - Percentage Change Year on Year</th>\n",
                            "    </tr>\n",
                            "  </thead>\n",
                            "  <tbody>\n",
                            "    <tr>\n",
                            "      <th>16</th>\n",
                            "      <td>2016</td>\n",
                            "      <td>Malaysia</td>\n",
                            "      <td>2376166</td>\n",
                            "      <td>2091098</td>\n",
                            "      <td>2198716</td>\n",
                            "      <td>2101280</td>\n",
                            "      <td>2144119</td>\n",
                            "      <td>2121396</td>\n",
                            "      <td>2296615</td>\n",
                            "      <td>2282173</td>\n",
                            "      <td>...</td>\n",
                            "      <td>-1.933966</td>\n",
                            "      <td>1.416945</td>\n",
                            "      <td>1.190671</td>\n",
                            "      <td>12.018427</td>\n",
                            "      <td>3.635569</td>\n",
                            "      <td>4.565194</td>\n",
                            "      <td>1.632556</td>\n",
                            "      <td>11.696432</td>\n",
                            "      <td>2.467758</td>\n",
                            "      <td>2.451860</td>\n",
                            "    </tr>\n",
                            "    <tr>\n",
                            "      <th>17</th>\n",
                            "      <td>2017</td>\n",
                            "      <td>Malaysia</td>\n",
                            "      <td>2350270</td>\n",
                            "      <td>2043215</td>\n",
                            "      <td>2238184</td>\n",
                            "      <td>2145734</td>\n",
                            "      <td>2039016</td>\n",
                            "      <td>2134647</td>\n",
                            "      <td>2263478</td>\n",
                            "      <td>2129013</td>\n",
                            "      <td>...</td>\n",
                            "      <td>1.795048</td>\n",
                            "      <td>2.115568</td>\n",
                            "      <td>-4.901920</td>\n",
                            "      <td>0.624636</td>\n",
                            "      <td>-1.442863</td>\n",
                            "      <td>-6.711148</td>\n",
                            "      <td>-1.226841</td>\n",
                            "      <td>-11.067846</td>\n",
                            "      <td>-2.249089</td>\n",
                            "      <td>-7.981155</td>\n",
                            "    </tr>\n",
                            "    <tr>\n",
                            "      <th>18</th>\n",
                            "      <td>2018</td>\n",
                            "      <td>Malaysia</td>\n",
                            "      <td>2276750</td>\n",
                            "      <td>2050613</td>\n",
                            "      <td>2192855</td>\n",
                            "      <td>1957248</td>\n",
                            "      <td>1976981</td>\n",
                            "      <td>2275921</td>\n",
                            "      <td>2305324</td>\n",
                            "      <td>2253534</td>\n",
                            "      <td>...</td>\n",
                            "      <td>-2.025258</td>\n",
                            "      <td>-8.784220</td>\n",
                            "      <td>-3.042399</td>\n",
                            "      <td>6.618143</td>\n",
                            "      <td>1.848748</td>\n",
                            "      <td>5.848767</td>\n",
                            "      <td>0.215592</td>\n",
                            "      <td>1.690676</td>\n",
                            "      <td>-0.902556</td>\n",
                            "      <td>-3.413665</td>\n",
                            "    </tr>\n",
                            "    <tr>\n",
                            "      <th>19</th>\n",
                            "      <td>2019</td>\n",
                            "      <td>Malaysia</td>\n",
                            "      <td>2195684</td>\n",
                            "      <td>2165933</td>\n",
                            "      <td>2334613</td>\n",
                            "      <td>2159517</td>\n",
                            "      <td>2098267</td>\n",
                            "      <td>2400561</td>\n",
                            "      <td>2415097</td>\n",
                            "      <td>2342438</td>\n",
                            "      <td>...</td>\n",
                            "      <td>6.464541</td>\n",
                            "      <td>10.334357</td>\n",
                            "      <td>6.134910</td>\n",
                            "      <td>5.476464</td>\n",
                            "      <td>4.761717</td>\n",
                            "      <td>3.945092</td>\n",
                            "      <td>-4.759241</td>\n",
                            "      <td>-3.459024</td>\n",
                            "      <td>-1.031589</td>\n",
                            "      <td>-15.360934</td>\n",
                            "    </tr>\n",
                            "    <tr>\n",
                            "      <th>20</th>\n",
                            "      <td>2020</td>\n",
                            "      <td>Malaysia</td>\n",
                            "      <td>2164459</td>\n",
                            "      <td>1397912</td>\n",
                            "      <td>671084</td>\n",
                            "      <td>7546</td>\n",
                            "      <td>5411</td>\n",
                            "      <td>6585</td>\n",
                            "      <td>18660</td>\n",
                            "      <td>11631</td>\n",
                            "      <td>...</td>\n",
                            "      <td>-71.255022</td>\n",
                            "      <td>-99.650570</td>\n",
                            "      <td>-99.742121</td>\n",
                            "      <td>-99.725689</td>\n",
                            "      <td>-99.227360</td>\n",
                            "      <td>-99.503466</td>\n",
                            "      <td>-99.192276</td>\n",
                            "      <td>-99.442940</td>\n",
                            "      <td>-99.420103</td>\n",
                            "      <td>-99.469230</td>\n",
                            "    </tr>\n",
                            "  </tbody>\n",
                            "</table>\n",
                            "<p>5 rows × 26 columns</p>\n",
                            "</div>"
                        ]
                    },
                    "metadata": {},
                    "execution_count": 2
                }
            ],
            "metadata": {}
        },
        {
            "cell_type": "code",
            "execution_count": 103,
            "source": [
                "# clean raw data and transform to long format\r\n",
                "list_column = [0] + list(range(2,14))\r\n",
                "column_name = [\"year\", \"1\",\"2\",\"3\",\"4\",\"5\",\"6\",\"7\",\"8\",\"9\",\"10\",\"11\",\"12\"]\r\n",
                "\r\n",
                "# select and rename column\r\n",
                "tourism_clean = tourism_raw.iloc[:,list_column]\r\n",
                "tourism_clean.columns = column_name\r\n",
                "\r\n",
                "# change to longer format\r\n",
                "tourism_clean = tourism_clean.melt(id_vars='year', var_name = \"month\", value_name = \"tourist_arrival\")\r\n",
                "\r\n",
                "# convert to date\r\n",
                "tourism_clean['day'] = 1\r\n",
                "tourism_clean['date'] = pd.to_datetime(tourism_clean[['year', 'month','day']])\r\n",
                "tourism_clean = tourism_clean[['date','tourist_arrival']].sort_values(by=\"date\").reset_index(drop=True)\r\n",
                "tourism_clean.tail()"
            ],
            "outputs": [
                {
                    "output_type": "execute_result",
                    "data": {
                        "text/plain": [
                            "          date  tourist_arrival\n",
                            "247 2020-08-01            11631\n",
                            "248 2020-09-01            16131\n",
                            "249 2020-10-01            11315\n",
                            "250 2020-11-01            11420\n",
                            "251 2020-12-01            10568"
                        ],
                        "text/html": [
                            "<div>\n",
                            "<style scoped>\n",
                            "    .dataframe tbody tr th:only-of-type {\n",
                            "        vertical-align: middle;\n",
                            "    }\n",
                            "\n",
                            "    .dataframe tbody tr th {\n",
                            "        vertical-align: top;\n",
                            "    }\n",
                            "\n",
                            "    .dataframe thead th {\n",
                            "        text-align: right;\n",
                            "    }\n",
                            "</style>\n",
                            "<table border=\"1\" class=\"dataframe\">\n",
                            "  <thead>\n",
                            "    <tr style=\"text-align: right;\">\n",
                            "      <th></th>\n",
                            "      <th>date</th>\n",
                            "      <th>tourist_arrival</th>\n",
                            "    </tr>\n",
                            "  </thead>\n",
                            "  <tbody>\n",
                            "    <tr>\n",
                            "      <th>247</th>\n",
                            "      <td>2020-08-01</td>\n",
                            "      <td>11631</td>\n",
                            "    </tr>\n",
                            "    <tr>\n",
                            "      <th>248</th>\n",
                            "      <td>2020-09-01</td>\n",
                            "      <td>16131</td>\n",
                            "    </tr>\n",
                            "    <tr>\n",
                            "      <th>249</th>\n",
                            "      <td>2020-10-01</td>\n",
                            "      <td>11315</td>\n",
                            "    </tr>\n",
                            "    <tr>\n",
                            "      <th>250</th>\n",
                            "      <td>2020-11-01</td>\n",
                            "      <td>11420</td>\n",
                            "    </tr>\n",
                            "    <tr>\n",
                            "      <th>251</th>\n",
                            "      <td>2020-12-01</td>\n",
                            "      <td>10568</td>\n",
                            "    </tr>\n",
                            "  </tbody>\n",
                            "</table>\n",
                            "</div>"
                        ]
                    },
                    "metadata": {},
                    "execution_count": 103
                }
            ],
            "metadata": {}
        },
        {
            "cell_type": "code",
            "execution_count": 104,
            "source": [
                "## export to intermediate clean dataset\r\n",
                "# tourism_clean.to_csv(\"C:/Users/benlc/OneDrive/Desktop/python_learn/tourism-demand-malaysia/data/interim/tourism_clean.csv\")\r\n"
            ],
            "outputs": [],
            "metadata": {}
        },
        {
            "cell_type": "code",
            "execution_count": 105,
            "source": [
                "tourism_clean.set_index(\"date\", inplace=True)\r\n",
                "tourism_clean.head()"
            ],
            "outputs": [
                {
                    "output_type": "execute_result",
                    "data": {
                        "text/plain": [
                            "            tourist_arrival\n",
                            "date                       \n",
                            "2000-01-01           731509\n",
                            "2000-02-01           786040\n",
                            "2000-03-01           737678\n",
                            "2000-04-01           916382\n",
                            "2000-05-01           894350"
                        ],
                        "text/html": [
                            "<div>\n",
                            "<style scoped>\n",
                            "    .dataframe tbody tr th:only-of-type {\n",
                            "        vertical-align: middle;\n",
                            "    }\n",
                            "\n",
                            "    .dataframe tbody tr th {\n",
                            "        vertical-align: top;\n",
                            "    }\n",
                            "\n",
                            "    .dataframe thead th {\n",
                            "        text-align: right;\n",
                            "    }\n",
                            "</style>\n",
                            "<table border=\"1\" class=\"dataframe\">\n",
                            "  <thead>\n",
                            "    <tr style=\"text-align: right;\">\n",
                            "      <th></th>\n",
                            "      <th>tourist_arrival</th>\n",
                            "    </tr>\n",
                            "    <tr>\n",
                            "      <th>date</th>\n",
                            "      <th></th>\n",
                            "    </tr>\n",
                            "  </thead>\n",
                            "  <tbody>\n",
                            "    <tr>\n",
                            "      <th>2000-01-01</th>\n",
                            "      <td>731509</td>\n",
                            "    </tr>\n",
                            "    <tr>\n",
                            "      <th>2000-02-01</th>\n",
                            "      <td>786040</td>\n",
                            "    </tr>\n",
                            "    <tr>\n",
                            "      <th>2000-03-01</th>\n",
                            "      <td>737678</td>\n",
                            "    </tr>\n",
                            "    <tr>\n",
                            "      <th>2000-04-01</th>\n",
                            "      <td>916382</td>\n",
                            "    </tr>\n",
                            "    <tr>\n",
                            "      <th>2000-05-01</th>\n",
                            "      <td>894350</td>\n",
                            "    </tr>\n",
                            "  </tbody>\n",
                            "</table>\n",
                            "</div>"
                        ]
                    },
                    "metadata": {},
                    "execution_count": 105
                }
            ],
            "metadata": {}
        },
        {
            "cell_type": "markdown",
            "source": [
                "Explorenatary data analysis\r\n",
                "- Try to understand existing data and identify which transformation or features are useful for 12 months ahead forecasting\r\n",
                "\r\n",
                "List of EDA tasks\r\n",
                "1) target variable viz & stationary check & distribution\r\n",
                "2) acf and pacf, decompositon & seasonality check - multiple correlation \r\n",
                "3) external variable cross correlation"
            ],
            "metadata": {}
        },
        {
            "cell_type": "code",
            "execution_count": 112,
            "source": [
                "# tourism_clean.head()\r\n",
                "# tourism_clean.reset_index()\r\n"
            ],
            "outputs": [
                {
                    "output_type": "execute_result",
                    "data": {
                        "text/plain": [
                            "            tourist_arrival  tourist_arrival_rolmean  tourist_arrival_rolstd\n",
                            "date                                                                        \n",
                            "2000-01-01           731509                      NaN                     NaN\n",
                            "2000-02-01           786040                      NaN                     NaN\n",
                            "2000-03-01           737678                      NaN                     NaN\n",
                            "2000-04-01           916382                      NaN                     NaN\n",
                            "2000-05-01           894350                      NaN                     NaN"
                        ],
                        "text/html": [
                            "<div>\n",
                            "<style scoped>\n",
                            "    .dataframe tbody tr th:only-of-type {\n",
                            "        vertical-align: middle;\n",
                            "    }\n",
                            "\n",
                            "    .dataframe tbody tr th {\n",
                            "        vertical-align: top;\n",
                            "    }\n",
                            "\n",
                            "    .dataframe thead th {\n",
                            "        text-align: right;\n",
                            "    }\n",
                            "</style>\n",
                            "<table border=\"1\" class=\"dataframe\">\n",
                            "  <thead>\n",
                            "    <tr style=\"text-align: right;\">\n",
                            "      <th></th>\n",
                            "      <th>tourist_arrival</th>\n",
                            "      <th>tourist_arrival_rolmean</th>\n",
                            "      <th>tourist_arrival_rolstd</th>\n",
                            "    </tr>\n",
                            "    <tr>\n",
                            "      <th>date</th>\n",
                            "      <th></th>\n",
                            "      <th></th>\n",
                            "      <th></th>\n",
                            "    </tr>\n",
                            "  </thead>\n",
                            "  <tbody>\n",
                            "    <tr>\n",
                            "      <th>2000-01-01</th>\n",
                            "      <td>731509</td>\n",
                            "      <td>NaN</td>\n",
                            "      <td>NaN</td>\n",
                            "    </tr>\n",
                            "    <tr>\n",
                            "      <th>2000-02-01</th>\n",
                            "      <td>786040</td>\n",
                            "      <td>NaN</td>\n",
                            "      <td>NaN</td>\n",
                            "    </tr>\n",
                            "    <tr>\n",
                            "      <th>2000-03-01</th>\n",
                            "      <td>737678</td>\n",
                            "      <td>NaN</td>\n",
                            "      <td>NaN</td>\n",
                            "    </tr>\n",
                            "    <tr>\n",
                            "      <th>2000-04-01</th>\n",
                            "      <td>916382</td>\n",
                            "      <td>NaN</td>\n",
                            "      <td>NaN</td>\n",
                            "    </tr>\n",
                            "    <tr>\n",
                            "      <th>2000-05-01</th>\n",
                            "      <td>894350</td>\n",
                            "      <td>NaN</td>\n",
                            "      <td>NaN</td>\n",
                            "    </tr>\n",
                            "  </tbody>\n",
                            "</table>\n",
                            "</div>"
                        ]
                    },
                    "metadata": {},
                    "execution_count": 112
                }
            ],
            "metadata": {}
        },
        {
            "cell_type": "code",
            "execution_count": 113,
            "source": [
                "## check stationary and visualise plot and histogram\r\n",
                "def check_stationary(timeseries):\r\n",
                "    dftest = ts.adfuller(timeseries)\r\n",
                "    dfoutput = pd.Series(dftest[0:4], \r\n",
                "                            index=['Test Statistic','p-value','Lags Used','Observations Used'])\r\n",
                "    for key,value in dftest[4].items():\r\n",
                "        dfoutput['Critical Value (%s)'%key] = value\r\n",
                "    print(dfoutput)\r\n",
                "\r\n",
                "check_stationary(timeseries = tourism_clean['tourist_arrival'])\r\n",
                "\r\n",
                "def display_time_series(df, y_col):\r\n",
                "\r\n",
                "\r\n",
                "    # Determing rolling statistics\r\n",
                "    df[y_col+'_rolmean'] = df[y_col].rolling(window=12).mean()\r\n",
                "    df[y_col+'_rolstd'] = df[y_col].rolling(window=12).std()\r\n",
                "    df = df.reset_index()\r\n",
                "    df = df.melt( id_vars='date', var_name = \"type\", value_name = \"value\")\r\n",
                "\r\n",
                "    fig = px.line(df, x=\"date\", y=\"value\", color=\"type\")\r\n",
                "    fig.show()\r\n",
                "\r\n",
                "display_time_series(df = tourism_clean.copy(), y_col = \"tourist_arrival\")\r\n",
                "\r\n",
                "def display_histogram(df, x_col):\r\n",
                "    fig = px.histogram(df, x=x_col)\r\n",
                "    fig.show()\r\n",
                "\r\n",
                "display_histogram(df = tourism_clean, x_col = \"tourist_arrival\")\r\n",
                "\r\n",
                "\r\n",
                "\r\n",
                "\r\n"
            ],
            "outputs": [
                {
                    "output_type": "stream",
                    "name": "stdout",
                    "text": [
                        "Test Statistic           -1.116766\n",
                        "p-value                   0.708340\n",
                        "Lags Used                12.000000\n",
                        "Observations Used       239.000000\n",
                        "Critical Value (1%)      -3.458011\n",
                        "Critical Value (5%)      -2.873710\n",
                        "Critical Value (10%)     -2.573256\n",
                        "dtype: float64\n"
                    ]
                },
                {
                    "output_type": "display_data",
                    "data": {
                        "application/vnd.plotly.v1+json": {
                            "config": {
                                "plotlyServerURL": "https://plot.ly"
                            },
                            "data": [
                                {
                                    "hovertemplate": "type=tourist_arrival<br>date=%{x}<br>value=%{y}<extra></extra>",
                                    "legendgroup": "tourist_arrival",
                                    "line": {
                                        "color": "#636efa",
                                        "dash": "solid"
                                    },
                                    "marker": {
                                        "symbol": "circle"
                                    },
                                    "mode": "lines",
                                    "name": "tourist_arrival",
                                    "orientation": "v",
                                    "showlegend": true,
                                    "type": "scatter",
                                    "x": [
                                        "2000-01-01T00:00:00",
                                        "2000-02-01T00:00:00",
                                        "2000-03-01T00:00:00",
                                        "2000-04-01T00:00:00",
                                        "2000-05-01T00:00:00",
                                        "2000-06-01T00:00:00",
                                        "2000-07-01T00:00:00",
                                        "2000-08-01T00:00:00",
                                        "2000-09-01T00:00:00",
                                        "2000-10-01T00:00:00",
                                        "2000-11-01T00:00:00",
                                        "2000-12-01T00:00:00",
                                        "2001-01-01T00:00:00",
                                        "2001-02-01T00:00:00",
                                        "2001-03-01T00:00:00",
                                        "2001-04-01T00:00:00",
                                        "2001-05-01T00:00:00",
                                        "2001-06-01T00:00:00",
                                        "2001-07-01T00:00:00",
                                        "2001-08-01T00:00:00",
                                        "2001-09-01T00:00:00",
                                        "2001-10-01T00:00:00",
                                        "2001-11-01T00:00:00",
                                        "2001-12-01T00:00:00",
                                        "2002-01-01T00:00:00",
                                        "2002-02-01T00:00:00",
                                        "2002-03-01T00:00:00",
                                        "2002-04-01T00:00:00",
                                        "2002-05-01T00:00:00",
                                        "2002-06-01T00:00:00",
                                        "2002-07-01T00:00:00",
                                        "2002-08-01T00:00:00",
                                        "2002-09-01T00:00:00",
                                        "2002-10-01T00:00:00",
                                        "2002-11-01T00:00:00",
                                        "2002-12-01T00:00:00",
                                        "2003-01-01T00:00:00",
                                        "2003-02-01T00:00:00",
                                        "2003-03-01T00:00:00",
                                        "2003-04-01T00:00:00",
                                        "2003-05-01T00:00:00",
                                        "2003-06-01T00:00:00",
                                        "2003-07-01T00:00:00",
                                        "2003-08-01T00:00:00",
                                        "2003-09-01T00:00:00",
                                        "2003-10-01T00:00:00",
                                        "2003-11-01T00:00:00",
                                        "2003-12-01T00:00:00",
                                        "2004-01-01T00:00:00",
                                        "2004-02-01T00:00:00",
                                        "2004-03-01T00:00:00",
                                        "2004-04-01T00:00:00",
                                        "2004-05-01T00:00:00",
                                        "2004-06-01T00:00:00",
                                        "2004-07-01T00:00:00",
                                        "2004-08-01T00:00:00",
                                        "2004-09-01T00:00:00",
                                        "2004-10-01T00:00:00",
                                        "2004-11-01T00:00:00",
                                        "2004-12-01T00:00:00",
                                        "2005-01-01T00:00:00",
                                        "2005-02-01T00:00:00",
                                        "2005-03-01T00:00:00",
                                        "2005-04-01T00:00:00",
                                        "2005-05-01T00:00:00",
                                        "2005-06-01T00:00:00",
                                        "2005-07-01T00:00:00",
                                        "2005-08-01T00:00:00",
                                        "2005-09-01T00:00:00",
                                        "2005-10-01T00:00:00",
                                        "2005-11-01T00:00:00",
                                        "2005-12-01T00:00:00",
                                        "2006-01-01T00:00:00",
                                        "2006-02-01T00:00:00",
                                        "2006-03-01T00:00:00",
                                        "2006-04-01T00:00:00",
                                        "2006-05-01T00:00:00",
                                        "2006-06-01T00:00:00",
                                        "2006-07-01T00:00:00",
                                        "2006-08-01T00:00:00",
                                        "2006-09-01T00:00:00",
                                        "2006-10-01T00:00:00",
                                        "2006-11-01T00:00:00",
                                        "2006-12-01T00:00:00",
                                        "2007-01-01T00:00:00",
                                        "2007-02-01T00:00:00",
                                        "2007-03-01T00:00:00",
                                        "2007-04-01T00:00:00",
                                        "2007-05-01T00:00:00",
                                        "2007-06-01T00:00:00",
                                        "2007-07-01T00:00:00",
                                        "2007-08-01T00:00:00",
                                        "2007-09-01T00:00:00",
                                        "2007-10-01T00:00:00",
                                        "2007-11-01T00:00:00",
                                        "2007-12-01T00:00:00",
                                        "2008-01-01T00:00:00",
                                        "2008-02-01T00:00:00",
                                        "2008-03-01T00:00:00",
                                        "2008-04-01T00:00:00",
                                        "2008-05-01T00:00:00",
                                        "2008-06-01T00:00:00",
                                        "2008-07-01T00:00:00",
                                        "2008-08-01T00:00:00",
                                        "2008-09-01T00:00:00",
                                        "2008-10-01T00:00:00",
                                        "2008-11-01T00:00:00",
                                        "2008-12-01T00:00:00",
                                        "2009-01-01T00:00:00",
                                        "2009-02-01T00:00:00",
                                        "2009-03-01T00:00:00",
                                        "2009-04-01T00:00:00",
                                        "2009-05-01T00:00:00",
                                        "2009-06-01T00:00:00",
                                        "2009-07-01T00:00:00",
                                        "2009-08-01T00:00:00",
                                        "2009-09-01T00:00:00",
                                        "2009-10-01T00:00:00",
                                        "2009-11-01T00:00:00",
                                        "2009-12-01T00:00:00",
                                        "2010-01-01T00:00:00",
                                        "2010-02-01T00:00:00",
                                        "2010-03-01T00:00:00",
                                        "2010-04-01T00:00:00",
                                        "2010-05-01T00:00:00",
                                        "2010-06-01T00:00:00",
                                        "2010-07-01T00:00:00",
                                        "2010-08-01T00:00:00",
                                        "2010-09-01T00:00:00",
                                        "2010-10-01T00:00:00",
                                        "2010-11-01T00:00:00",
                                        "2010-12-01T00:00:00",
                                        "2011-01-01T00:00:00",
                                        "2011-02-01T00:00:00",
                                        "2011-03-01T00:00:00",
                                        "2011-04-01T00:00:00",
                                        "2011-05-01T00:00:00",
                                        "2011-06-01T00:00:00",
                                        "2011-07-01T00:00:00",
                                        "2011-08-01T00:00:00",
                                        "2011-09-01T00:00:00",
                                        "2011-10-01T00:00:00",
                                        "2011-11-01T00:00:00",
                                        "2011-12-01T00:00:00",
                                        "2012-01-01T00:00:00",
                                        "2012-02-01T00:00:00",
                                        "2012-03-01T00:00:00",
                                        "2012-04-01T00:00:00",
                                        "2012-05-01T00:00:00",
                                        "2012-06-01T00:00:00",
                                        "2012-07-01T00:00:00",
                                        "2012-08-01T00:00:00",
                                        "2012-09-01T00:00:00",
                                        "2012-10-01T00:00:00",
                                        "2012-11-01T00:00:00",
                                        "2012-12-01T00:00:00",
                                        "2013-01-01T00:00:00",
                                        "2013-02-01T00:00:00",
                                        "2013-03-01T00:00:00",
                                        "2013-04-01T00:00:00",
                                        "2013-05-01T00:00:00",
                                        "2013-06-01T00:00:00",
                                        "2013-07-01T00:00:00",
                                        "2013-08-01T00:00:00",
                                        "2013-09-01T00:00:00",
                                        "2013-10-01T00:00:00",
                                        "2013-11-01T00:00:00",
                                        "2013-12-01T00:00:00",
                                        "2014-01-01T00:00:00",
                                        "2014-02-01T00:00:00",
                                        "2014-03-01T00:00:00",
                                        "2014-04-01T00:00:00",
                                        "2014-05-01T00:00:00",
                                        "2014-06-01T00:00:00",
                                        "2014-07-01T00:00:00",
                                        "2014-08-01T00:00:00",
                                        "2014-09-01T00:00:00",
                                        "2014-10-01T00:00:00",
                                        "2014-11-01T00:00:00",
                                        "2014-12-01T00:00:00",
                                        "2015-01-01T00:00:00",
                                        "2015-02-01T00:00:00",
                                        "2015-03-01T00:00:00",
                                        "2015-04-01T00:00:00",
                                        "2015-05-01T00:00:00",
                                        "2015-06-01T00:00:00",
                                        "2015-07-01T00:00:00",
                                        "2015-08-01T00:00:00",
                                        "2015-09-01T00:00:00",
                                        "2015-10-01T00:00:00",
                                        "2015-11-01T00:00:00",
                                        "2015-12-01T00:00:00",
                                        "2016-01-01T00:00:00",
                                        "2016-02-01T00:00:00",
                                        "2016-03-01T00:00:00",
                                        "2016-04-01T00:00:00",
                                        "2016-05-01T00:00:00",
                                        "2016-06-01T00:00:00",
                                        "2016-07-01T00:00:00",
                                        "2016-08-01T00:00:00",
                                        "2016-09-01T00:00:00",
                                        "2016-10-01T00:00:00",
                                        "2016-11-01T00:00:00",
                                        "2016-12-01T00:00:00",
                                        "2017-01-01T00:00:00",
                                        "2017-02-01T00:00:00",
                                        "2017-03-01T00:00:00",
                                        "2017-04-01T00:00:00",
                                        "2017-05-01T00:00:00",
                                        "2017-06-01T00:00:00",
                                        "2017-07-01T00:00:00",
                                        "2017-08-01T00:00:00",
                                        "2017-09-01T00:00:00",
                                        "2017-10-01T00:00:00",
                                        "2017-11-01T00:00:00",
                                        "2017-12-01T00:00:00",
                                        "2018-01-01T00:00:00",
                                        "2018-02-01T00:00:00",
                                        "2018-03-01T00:00:00",
                                        "2018-04-01T00:00:00",
                                        "2018-05-01T00:00:00",
                                        "2018-06-01T00:00:00",
                                        "2018-07-01T00:00:00",
                                        "2018-08-01T00:00:00",
                                        "2018-09-01T00:00:00",
                                        "2018-10-01T00:00:00",
                                        "2018-11-01T00:00:00",
                                        "2018-12-01T00:00:00",
                                        "2019-01-01T00:00:00",
                                        "2019-02-01T00:00:00",
                                        "2019-03-01T00:00:00",
                                        "2019-04-01T00:00:00",
                                        "2019-05-01T00:00:00",
                                        "2019-06-01T00:00:00",
                                        "2019-07-01T00:00:00",
                                        "2019-08-01T00:00:00",
                                        "2019-09-01T00:00:00",
                                        "2019-10-01T00:00:00",
                                        "2019-11-01T00:00:00",
                                        "2019-12-01T00:00:00",
                                        "2020-01-01T00:00:00",
                                        "2020-02-01T00:00:00",
                                        "2020-03-01T00:00:00",
                                        "2020-04-01T00:00:00",
                                        "2020-05-01T00:00:00",
                                        "2020-06-01T00:00:00",
                                        "2020-07-01T00:00:00",
                                        "2020-08-01T00:00:00",
                                        "2020-09-01T00:00:00",
                                        "2020-10-01T00:00:00",
                                        "2020-11-01T00:00:00",
                                        "2020-12-01T00:00:00"
                                    ],
                                    "xaxis": "x",
                                    "y": [
                                        731509,
                                        786040,
                                        737678,
                                        916382,
                                        894350,
                                        960782,
                                        811876,
                                        764500,
                                        778587,
                                        990658,
                                        806648,
                                        1042572,
                                        1052854,
                                        1090219,
                                        1492235,
                                        1358776,
                                        1038210,
                                        1308788,
                                        1125504,
                                        1149987,
                                        927206,
                                        596202,
                                        759321,
                                        975771,
                                        834519,
                                        986408,
                                        1272810,
                                        1106053,
                                        1153033,
                                        1297536,
                                        1135691,
                                        1163724,
                                        1029120,
                                        1015946,
                                        1061229,
                                        1253941,
                                        1070428,
                                        985343,
                                        819376,
                                        456374,
                                        541267,
                                        719047,
                                        753029,
                                        826234,
                                        943526,
                                        994858,
                                        1135493,
                                        1328940,
                                        1408378,
                                        1295913,
                                        1274230,
                                        1266824,
                                        1262717,
                                        1381355,
                                        1227052,
                                        1268237,
                                        1326549,
                                        1359498,
                                        1329208,
                                        1303445,
                                        1394032,
                                        1346550,
                                        1419275,
                                        1317749,
                                        1351141,
                                        1339051,
                                        1317276,
                                        1393666,
                                        1335027,
                                        1367735,
                                        1432317,
                                        1417236,
                                        1453803,
                                        1384479,
                                        1541056,
                                        1422576,
                                        1393656,
                                        1368651,
                                        1450319,
                                        1503748,
                                        1384890,
                                        1540070,
                                        1564286,
                                        1539329,
                                        1721786,
                                        1652004,
                                        1906304,
                                        1764868,
                                        1841870,
                                        1803594,
                                        1713951,
                                        1642899,
                                        1601016,
                                        1673922,
                                        1764586,
                                        1886022,
                                        1780134,
                                        1742468,
                                        1819689,
                                        1760326,
                                        1899148,
                                        1961355,
                                        1928082,
                                        1839235,
                                        1599418,
                                        1818304,
                                        1845645,
                                        2058684,
                                        1871099,
                                        1613309,
                                        1975776,
                                        1883873,
                                        1894059,
                                        2108328,
                                        2003724,
                                        2030337,
                                        1997535,
                                        2078485,
                                        2048595,
                                        2141071,
                                        1896918,
                                        1832300,
                                        2022590,
                                        1877934,
                                        1992277,
                                        2246084,
                                        2214092,
                                        2099485,
                                        2053406,
                                        2137735,
                                        2081354,
                                        2123021,
                                        1918751,
                                        1669288,
                                        1952343,
                                        1891350,
                                        1892095,
                                        2039035,
                                        2406100,
                                        2166937,
                                        2094104,
                                        2189014,
                                        2225534,
                                        2269773,
                                        1817061,
                                        1773471,
                                        1972006,
                                        1924129,
                                        1951925,
                                        2193886,
                                        2306675,
                                        2240687,
                                        1973803,
                                        2205979,
                                        2236473,
                                        2436613,
                                        2070394,
                                        2002709,
                                        2376295,
                                        1984982,
                                        2044039,
                                        2074312,
                                        2129393,
                                        1980960,
                                        2093392,
                                        2106569,
                                        2045850,
                                        2806565,
                                        2447397,
                                        2118540,
                                        2525496,
                                        2175009,
                                        2266417,
                                        2342187,
                                        2229920,
                                        2273271,
                                        2233545,
                                        2247666,
                                        2130022,
                                        2447845,
                                        2291603,
                                        1949016,
                                        2242077,
                                        2071922,
                                        2118890,
                                        1893792,
                                        2216049,
                                        2182536,
                                        2084339,
                                        2082866,
                                        2004694,
                                        2583467,
                                        2376166,
                                        2091098,
                                        2198716,
                                        2101280,
                                        2144119,
                                        2121396,
                                        2296615,
                                        2282173,
                                        2118367,
                                        2326487,
                                        2054165,
                                        2646810,
                                        2350270,
                                        2043215,
                                        2238184,
                                        2145734,
                                        2039016,
                                        2134647,
                                        2263478,
                                        2129013,
                                        2092378,
                                        2068995,
                                        2007965,
                                        2435564,
                                        2276750,
                                        2050613,
                                        2192855,
                                        1957248,
                                        1976981,
                                        2275921,
                                        2305324,
                                        2253534,
                                        2096889,
                                        2103975,
                                        1989842,
                                        2352422,
                                        2195684,
                                        2165933,
                                        2334613,
                                        2159517,
                                        2098267,
                                        2400561,
                                        2415097,
                                        2342438,
                                        1997093,
                                        2031198,
                                        1969315,
                                        1991068,
                                        2164459,
                                        1397912,
                                        671084,
                                        7546,
                                        5411,
                                        6585,
                                        18660,
                                        11631,
                                        16131,
                                        11315,
                                        11420,
                                        10568
                                    ],
                                    "yaxis": "y"
                                },
                                {
                                    "hovertemplate": "type=tourist_arrival_rolmean<br>date=%{x}<br>value=%{y}<extra></extra>",
                                    "legendgroup": "tourist_arrival_rolmean",
                                    "line": {
                                        "color": "#EF553B",
                                        "dash": "solid"
                                    },
                                    "marker": {
                                        "symbol": "circle"
                                    },
                                    "mode": "lines",
                                    "name": "tourist_arrival_rolmean",
                                    "orientation": "v",
                                    "showlegend": true,
                                    "type": "scatter",
                                    "x": [
                                        "2000-01-01T00:00:00",
                                        "2000-02-01T00:00:00",
                                        "2000-03-01T00:00:00",
                                        "2000-04-01T00:00:00",
                                        "2000-05-01T00:00:00",
                                        "2000-06-01T00:00:00",
                                        "2000-07-01T00:00:00",
                                        "2000-08-01T00:00:00",
                                        "2000-09-01T00:00:00",
                                        "2000-10-01T00:00:00",
                                        "2000-11-01T00:00:00",
                                        "2000-12-01T00:00:00",
                                        "2001-01-01T00:00:00",
                                        "2001-02-01T00:00:00",
                                        "2001-03-01T00:00:00",
                                        "2001-04-01T00:00:00",
                                        "2001-05-01T00:00:00",
                                        "2001-06-01T00:00:00",
                                        "2001-07-01T00:00:00",
                                        "2001-08-01T00:00:00",
                                        "2001-09-01T00:00:00",
                                        "2001-10-01T00:00:00",
                                        "2001-11-01T00:00:00",
                                        "2001-12-01T00:00:00",
                                        "2002-01-01T00:00:00",
                                        "2002-02-01T00:00:00",
                                        "2002-03-01T00:00:00",
                                        "2002-04-01T00:00:00",
                                        "2002-05-01T00:00:00",
                                        "2002-06-01T00:00:00",
                                        "2002-07-01T00:00:00",
                                        "2002-08-01T00:00:00",
                                        "2002-09-01T00:00:00",
                                        "2002-10-01T00:00:00",
                                        "2002-11-01T00:00:00",
                                        "2002-12-01T00:00:00",
                                        "2003-01-01T00:00:00",
                                        "2003-02-01T00:00:00",
                                        "2003-03-01T00:00:00",
                                        "2003-04-01T00:00:00",
                                        "2003-05-01T00:00:00",
                                        "2003-06-01T00:00:00",
                                        "2003-07-01T00:00:00",
                                        "2003-08-01T00:00:00",
                                        "2003-09-01T00:00:00",
                                        "2003-10-01T00:00:00",
                                        "2003-11-01T00:00:00",
                                        "2003-12-01T00:00:00",
                                        "2004-01-01T00:00:00",
                                        "2004-02-01T00:00:00",
                                        "2004-03-01T00:00:00",
                                        "2004-04-01T00:00:00",
                                        "2004-05-01T00:00:00",
                                        "2004-06-01T00:00:00",
                                        "2004-07-01T00:00:00",
                                        "2004-08-01T00:00:00",
                                        "2004-09-01T00:00:00",
                                        "2004-10-01T00:00:00",
                                        "2004-11-01T00:00:00",
                                        "2004-12-01T00:00:00",
                                        "2005-01-01T00:00:00",
                                        "2005-02-01T00:00:00",
                                        "2005-03-01T00:00:00",
                                        "2005-04-01T00:00:00",
                                        "2005-05-01T00:00:00",
                                        "2005-06-01T00:00:00",
                                        "2005-07-01T00:00:00",
                                        "2005-08-01T00:00:00",
                                        "2005-09-01T00:00:00",
                                        "2005-10-01T00:00:00",
                                        "2005-11-01T00:00:00",
                                        "2005-12-01T00:00:00",
                                        "2006-01-01T00:00:00",
                                        "2006-02-01T00:00:00",
                                        "2006-03-01T00:00:00",
                                        "2006-04-01T00:00:00",
                                        "2006-05-01T00:00:00",
                                        "2006-06-01T00:00:00",
                                        "2006-07-01T00:00:00",
                                        "2006-08-01T00:00:00",
                                        "2006-09-01T00:00:00",
                                        "2006-10-01T00:00:00",
                                        "2006-11-01T00:00:00",
                                        "2006-12-01T00:00:00",
                                        "2007-01-01T00:00:00",
                                        "2007-02-01T00:00:00",
                                        "2007-03-01T00:00:00",
                                        "2007-04-01T00:00:00",
                                        "2007-05-01T00:00:00",
                                        "2007-06-01T00:00:00",
                                        "2007-07-01T00:00:00",
                                        "2007-08-01T00:00:00",
                                        "2007-09-01T00:00:00",
                                        "2007-10-01T00:00:00",
                                        "2007-11-01T00:00:00",
                                        "2007-12-01T00:00:00",
                                        "2008-01-01T00:00:00",
                                        "2008-02-01T00:00:00",
                                        "2008-03-01T00:00:00",
                                        "2008-04-01T00:00:00",
                                        "2008-05-01T00:00:00",
                                        "2008-06-01T00:00:00",
                                        "2008-07-01T00:00:00",
                                        "2008-08-01T00:00:00",
                                        "2008-09-01T00:00:00",
                                        "2008-10-01T00:00:00",
                                        "2008-11-01T00:00:00",
                                        "2008-12-01T00:00:00",
                                        "2009-01-01T00:00:00",
                                        "2009-02-01T00:00:00",
                                        "2009-03-01T00:00:00",
                                        "2009-04-01T00:00:00",
                                        "2009-05-01T00:00:00",
                                        "2009-06-01T00:00:00",
                                        "2009-07-01T00:00:00",
                                        "2009-08-01T00:00:00",
                                        "2009-09-01T00:00:00",
                                        "2009-10-01T00:00:00",
                                        "2009-11-01T00:00:00",
                                        "2009-12-01T00:00:00",
                                        "2010-01-01T00:00:00",
                                        "2010-02-01T00:00:00",
                                        "2010-03-01T00:00:00",
                                        "2010-04-01T00:00:00",
                                        "2010-05-01T00:00:00",
                                        "2010-06-01T00:00:00",
                                        "2010-07-01T00:00:00",
                                        "2010-08-01T00:00:00",
                                        "2010-09-01T00:00:00",
                                        "2010-10-01T00:00:00",
                                        "2010-11-01T00:00:00",
                                        "2010-12-01T00:00:00",
                                        "2011-01-01T00:00:00",
                                        "2011-02-01T00:00:00",
                                        "2011-03-01T00:00:00",
                                        "2011-04-01T00:00:00",
                                        "2011-05-01T00:00:00",
                                        "2011-06-01T00:00:00",
                                        "2011-07-01T00:00:00",
                                        "2011-08-01T00:00:00",
                                        "2011-09-01T00:00:00",
                                        "2011-10-01T00:00:00",
                                        "2011-11-01T00:00:00",
                                        "2011-12-01T00:00:00",
                                        "2012-01-01T00:00:00",
                                        "2012-02-01T00:00:00",
                                        "2012-03-01T00:00:00",
                                        "2012-04-01T00:00:00",
                                        "2012-05-01T00:00:00",
                                        "2012-06-01T00:00:00",
                                        "2012-07-01T00:00:00",
                                        "2012-08-01T00:00:00",
                                        "2012-09-01T00:00:00",
                                        "2012-10-01T00:00:00",
                                        "2012-11-01T00:00:00",
                                        "2012-12-01T00:00:00",
                                        "2013-01-01T00:00:00",
                                        "2013-02-01T00:00:00",
                                        "2013-03-01T00:00:00",
                                        "2013-04-01T00:00:00",
                                        "2013-05-01T00:00:00",
                                        "2013-06-01T00:00:00",
                                        "2013-07-01T00:00:00",
                                        "2013-08-01T00:00:00",
                                        "2013-09-01T00:00:00",
                                        "2013-10-01T00:00:00",
                                        "2013-11-01T00:00:00",
                                        "2013-12-01T00:00:00",
                                        "2014-01-01T00:00:00",
                                        "2014-02-01T00:00:00",
                                        "2014-03-01T00:00:00",
                                        "2014-04-01T00:00:00",
                                        "2014-05-01T00:00:00",
                                        "2014-06-01T00:00:00",
                                        "2014-07-01T00:00:00",
                                        "2014-08-01T00:00:00",
                                        "2014-09-01T00:00:00",
                                        "2014-10-01T00:00:00",
                                        "2014-11-01T00:00:00",
                                        "2014-12-01T00:00:00",
                                        "2015-01-01T00:00:00",
                                        "2015-02-01T00:00:00",
                                        "2015-03-01T00:00:00",
                                        "2015-04-01T00:00:00",
                                        "2015-05-01T00:00:00",
                                        "2015-06-01T00:00:00",
                                        "2015-07-01T00:00:00",
                                        "2015-08-01T00:00:00",
                                        "2015-09-01T00:00:00",
                                        "2015-10-01T00:00:00",
                                        "2015-11-01T00:00:00",
                                        "2015-12-01T00:00:00",
                                        "2016-01-01T00:00:00",
                                        "2016-02-01T00:00:00",
                                        "2016-03-01T00:00:00",
                                        "2016-04-01T00:00:00",
                                        "2016-05-01T00:00:00",
                                        "2016-06-01T00:00:00",
                                        "2016-07-01T00:00:00",
                                        "2016-08-01T00:00:00",
                                        "2016-09-01T00:00:00",
                                        "2016-10-01T00:00:00",
                                        "2016-11-01T00:00:00",
                                        "2016-12-01T00:00:00",
                                        "2017-01-01T00:00:00",
                                        "2017-02-01T00:00:00",
                                        "2017-03-01T00:00:00",
                                        "2017-04-01T00:00:00",
                                        "2017-05-01T00:00:00",
                                        "2017-06-01T00:00:00",
                                        "2017-07-01T00:00:00",
                                        "2017-08-01T00:00:00",
                                        "2017-09-01T00:00:00",
                                        "2017-10-01T00:00:00",
                                        "2017-11-01T00:00:00",
                                        "2017-12-01T00:00:00",
                                        "2018-01-01T00:00:00",
                                        "2018-02-01T00:00:00",
                                        "2018-03-01T00:00:00",
                                        "2018-04-01T00:00:00",
                                        "2018-05-01T00:00:00",
                                        "2018-06-01T00:00:00",
                                        "2018-07-01T00:00:00",
                                        "2018-08-01T00:00:00",
                                        "2018-09-01T00:00:00",
                                        "2018-10-01T00:00:00",
                                        "2018-11-01T00:00:00",
                                        "2018-12-01T00:00:00",
                                        "2019-01-01T00:00:00",
                                        "2019-02-01T00:00:00",
                                        "2019-03-01T00:00:00",
                                        "2019-04-01T00:00:00",
                                        "2019-05-01T00:00:00",
                                        "2019-06-01T00:00:00",
                                        "2019-07-01T00:00:00",
                                        "2019-08-01T00:00:00",
                                        "2019-09-01T00:00:00",
                                        "2019-10-01T00:00:00",
                                        "2019-11-01T00:00:00",
                                        "2019-12-01T00:00:00",
                                        "2020-01-01T00:00:00",
                                        "2020-02-01T00:00:00",
                                        "2020-03-01T00:00:00",
                                        "2020-04-01T00:00:00",
                                        "2020-05-01T00:00:00",
                                        "2020-06-01T00:00:00",
                                        "2020-07-01T00:00:00",
                                        "2020-08-01T00:00:00",
                                        "2020-09-01T00:00:00",
                                        "2020-10-01T00:00:00",
                                        "2020-11-01T00:00:00",
                                        "2020-12-01T00:00:00"
                                    ],
                                    "xaxis": "x",
                                    "y": [
                                        null,
                                        null,
                                        null,
                                        null,
                                        null,
                                        null,
                                        null,
                                        null,
                                        null,
                                        null,
                                        null,
                                        851798.5,
                                        878577.25,
                                        903925.5,
                                        966805.25,
                                        1003671.4166666666,
                                        1015659.75,
                                        1044660.25,
                                        1070795.9166666667,
                                        1102919.8333333333,
                                        1115304.75,
                                        1082433.4166666667,
                                        1078489.5,
                                        1072922.75,
                                        1054728.1666666667,
                                        1046077.25,
                                        1027791.8333333334,
                                        1006731.5833333334,
                                        1016300.1666666666,
                                        1015362.5,
                                        1016211.4166666666,
                                        1017356.1666666666,
                                        1025849,
                                        1060827.6666666667,
                                        1085986.6666666667,
                                        1109167.5,
                                        1128826.5833333333,
                                        1128737.8333333333,
                                        1090951.6666666667,
                                        1036811.75,
                                        985831.25,
                                        937623.8333333334,
                                        905735.3333333334,
                                        877611.1666666666,
                                        870478.3333333334,
                                        868721,
                                        874909.6666666666,
                                        881159.5833333334,
                                        909322.0833333334,
                                        935202.9166666666,
                                        973107.4166666666,
                                        1040644.9166666666,
                                        1100765.75,
                                        1155958.0833333333,
                                        1195460,
                                        1232293.5833333333,
                                        1264212.1666666667,
                                        1294598.8333333333,
                                        1310741.75,
                                        1308617.1666666667,
                                        1307421.6666666667,
                                        1311641.4166666667,
                                        1323728.5,
                                        1327972.25,
                                        1335340.9166666667,
                                        1331815.5833333333,
                                        1339334.25,
                                        1349786.6666666667,
                                        1350493.1666666667,
                                        1351179.5833333333,
                                        1359772,
                                        1369254.5833333333,
                                        1374235.5,
                                        1377396.25,
                                        1387544.6666666667,
                                        1396280.25,
                                        1399823.1666666667,
                                        1402289.8333333333,
                                        1413376.75,
                                        1422550.25,
                                        1426705.5,
                                        1441066.75,
                                        1452064.1666666667,
                                        1462238.5833333333,
                                        1484570.5,
                                        1506864.25,
                                        1537301.5833333333,
                                        1565825.9166666667,
                                        1603177.0833333333,
                                        1639422.3333333333,
                                        1661391.6666666667,
                                        1672987.5833333333,
                                        1690998.0833333333,
                                        1702152.4166666667,
                                        1718844.0833333333,
                                        1747735.1666666667,
                                        1752597.5,
                                        1760136.1666666667,
                                        1752918.25,
                                        1752539.75,
                                        1757312.9166666667,
                                        1770459.6666666667,
                                        1788303.9166666667,
                                        1804665.25,
                                        1804532.0833333333,
                                        1816563.9166666667,
                                        1823318.8333333333,
                                        1837707.3333333333,
                                        1845287.75,
                                        1834524.5,
                                        1847531.75,
                                        1857827.3333333333,
                                        1857403.25,
                                        1869651,
                                        1875954.5,
                                        1891879.6666666667,
                                        1925056.0833333333,
                                        1946737.8333333333,
                                        1963650.3333333333,
                                        1970515.9166666667,
                                        1972667.5,
                                        1990916.75,
                                        1994817.9166666667,
                                        1994323,
                                        2002507.8333333333,
                                        2013987.5,
                                        2031518.1666666667,
                                        2037280.5,
                                        2041936.4166666667,
                                        2046873.9166666667,
                                        2049603.8333333333,
                                        2048099.6666666667,
                                        2049919.0833333333,
                                        2036334.75,
                                        2030480.8333333333,
                                        2031598.8333333333,
                                        2023250.3333333333,
                                        2005996.25,
                                        2021996.9166666667,
                                        2027617.9166666667,
                                        2031009.4166666667,
                                        2035282.6666666667,
                                        2047297.6666666667,
                                        2059527,
                                        2051052.8333333333,
                                        2059734.75,
                                        2061373.3333333333,
                                        2064104.9166666667,
                                        2069090.75,
                                        2081995,
                                        2073709.5833333333,
                                        2079855.4166666667,
                                        2069830.3333333333,
                                        2071244.0833333333,
                                        2072155.6666666667,
                                        2086059,
                                        2107170.0833333335,
                                        2126273.25,
                                        2159964,
                                        2165035.0833333335,
                                        2172711.25,
                                        2162746.75,
                                        2147973.25,
                                        2126329.3333333335,
                                        2136295.0833333335,
                                        2128010.9166666665,
                                        2112125.6666666665,
                                        2142955,
                                        2174371.9166666665,
                                        2184024.5,
                                        2196457.9166666665,
                                        2212293.5,
                                        2230825,
                                        2253147.9166666665,
                                        2261525.1666666665,
                                        2285884.4166666665,
                                        2297563.8333333335,
                                        2309321.9166666665,
                                        2316336.25,
                                        2286442.9166666665,
                                        2273460.0833333335,
                                        2259333.0833333335,
                                        2235714.8333333335,
                                        2227124.25,
                                        2214830.3333333335,
                                        2177464.0833333335,
                                        2176308.1666666665,
                                        2168746.9166666665,
                                        2156313.0833333335,
                                        2142579.75,
                                        2132135.75,
                                        2143437.5833333335,
                                        2150484.5,
                                        2162324.6666666665,
                                        2158711.25,
                                        2161157.75,
                                        2163260.1666666665,
                                        2182227.1666666665,
                                        2188941,
                                        2197244.0833333335,
                                        2200079.75,
                                        2220381.5,
                                        2224504.0833333335,
                                        2229782.6666666665,
                                        2227624.6666666665,
                                        2223634.4166666665,
                                        2226923.4166666665,
                                        2230627.9166666665,
                                        2221869.3333333335,
                                        2222973.5833333335,
                                        2220212.1666666665,
                                        2207448.8333333335,
                                        2205283.0833333335,
                                        2183825.4166666665,
                                        2179975.4166666665,
                                        2162371.5833333335,
                                        2156244.9166666665,
                                        2156861.4166666665,
                                        2153084,
                                        2137376.8333333335,
                                        2132207.25,
                                        2143980.0833333335,
                                        2147467.25,
                                        2157844,
                                        2158219.9166666665,
                                        2161134.9166666665,
                                        2159624.6666666665,
                                        2152696.1666666665,
                                        2145940.6666666665,
                                        2155550.6666666665,
                                        2167363.8333333335,
                                        2184219.5833333335,
                                        2194326.75,
                                        2204713.4166666665,
                                        2213861.1666666665,
                                        2221269.8333333335,
                                        2212953.5,
                                        2206888.75,
                                        2205178.1666666665,
                                        2175065.3333333335,
                                        2172463.25,
                                        2108461.5,
                                        1969834.0833333333,
                                        1790503.1666666667,
                                        1616098.5,
                                        1416600.5,
                                        1216897.4166666667,
                                        1022663.5,
                                        857583.3333333334,
                                        689259.75,
                                        526101.8333333334,
                                        361060.1666666667
                                    ],
                                    "yaxis": "y"
                                },
                                {
                                    "hovertemplate": "type=tourist_arrival_rolstd<br>date=%{x}<br>value=%{y}<extra></extra>",
                                    "legendgroup": "tourist_arrival_rolstd",
                                    "line": {
                                        "color": "#00cc96",
                                        "dash": "solid"
                                    },
                                    "marker": {
                                        "symbol": "circle"
                                    },
                                    "mode": "lines",
                                    "name": "tourist_arrival_rolstd",
                                    "orientation": "v",
                                    "showlegend": true,
                                    "type": "scatter",
                                    "x": [
                                        "2000-01-01T00:00:00",
                                        "2000-02-01T00:00:00",
                                        "2000-03-01T00:00:00",
                                        "2000-04-01T00:00:00",
                                        "2000-05-01T00:00:00",
                                        "2000-06-01T00:00:00",
                                        "2000-07-01T00:00:00",
                                        "2000-08-01T00:00:00",
                                        "2000-09-01T00:00:00",
                                        "2000-10-01T00:00:00",
                                        "2000-11-01T00:00:00",
                                        "2000-12-01T00:00:00",
                                        "2001-01-01T00:00:00",
                                        "2001-02-01T00:00:00",
                                        "2001-03-01T00:00:00",
                                        "2001-04-01T00:00:00",
                                        "2001-05-01T00:00:00",
                                        "2001-06-01T00:00:00",
                                        "2001-07-01T00:00:00",
                                        "2001-08-01T00:00:00",
                                        "2001-09-01T00:00:00",
                                        "2001-10-01T00:00:00",
                                        "2001-11-01T00:00:00",
                                        "2001-12-01T00:00:00",
                                        "2002-01-01T00:00:00",
                                        "2002-02-01T00:00:00",
                                        "2002-03-01T00:00:00",
                                        "2002-04-01T00:00:00",
                                        "2002-05-01T00:00:00",
                                        "2002-06-01T00:00:00",
                                        "2002-07-01T00:00:00",
                                        "2002-08-01T00:00:00",
                                        "2002-09-01T00:00:00",
                                        "2002-10-01T00:00:00",
                                        "2002-11-01T00:00:00",
                                        "2002-12-01T00:00:00",
                                        "2003-01-01T00:00:00",
                                        "2003-02-01T00:00:00",
                                        "2003-03-01T00:00:00",
                                        "2003-04-01T00:00:00",
                                        "2003-05-01T00:00:00",
                                        "2003-06-01T00:00:00",
                                        "2003-07-01T00:00:00",
                                        "2003-08-01T00:00:00",
                                        "2003-09-01T00:00:00",
                                        "2003-10-01T00:00:00",
                                        "2003-11-01T00:00:00",
                                        "2003-12-01T00:00:00",
                                        "2004-01-01T00:00:00",
                                        "2004-02-01T00:00:00",
                                        "2004-03-01T00:00:00",
                                        "2004-04-01T00:00:00",
                                        "2004-05-01T00:00:00",
                                        "2004-06-01T00:00:00",
                                        "2004-07-01T00:00:00",
                                        "2004-08-01T00:00:00",
                                        "2004-09-01T00:00:00",
                                        "2004-10-01T00:00:00",
                                        "2004-11-01T00:00:00",
                                        "2004-12-01T00:00:00",
                                        "2005-01-01T00:00:00",
                                        "2005-02-01T00:00:00",
                                        "2005-03-01T00:00:00",
                                        "2005-04-01T00:00:00",
                                        "2005-05-01T00:00:00",
                                        "2005-06-01T00:00:00",
                                        "2005-07-01T00:00:00",
                                        "2005-08-01T00:00:00",
                                        "2005-09-01T00:00:00",
                                        "2005-10-01T00:00:00",
                                        "2005-11-01T00:00:00",
                                        "2005-12-01T00:00:00",
                                        "2006-01-01T00:00:00",
                                        "2006-02-01T00:00:00",
                                        "2006-03-01T00:00:00",
                                        "2006-04-01T00:00:00",
                                        "2006-05-01T00:00:00",
                                        "2006-06-01T00:00:00",
                                        "2006-07-01T00:00:00",
                                        "2006-08-01T00:00:00",
                                        "2006-09-01T00:00:00",
                                        "2006-10-01T00:00:00",
                                        "2006-11-01T00:00:00",
                                        "2006-12-01T00:00:00",
                                        "2007-01-01T00:00:00",
                                        "2007-02-01T00:00:00",
                                        "2007-03-01T00:00:00",
                                        "2007-04-01T00:00:00",
                                        "2007-05-01T00:00:00",
                                        "2007-06-01T00:00:00",
                                        "2007-07-01T00:00:00",
                                        "2007-08-01T00:00:00",
                                        "2007-09-01T00:00:00",
                                        "2007-10-01T00:00:00",
                                        "2007-11-01T00:00:00",
                                        "2007-12-01T00:00:00",
                                        "2008-01-01T00:00:00",
                                        "2008-02-01T00:00:00",
                                        "2008-03-01T00:00:00",
                                        "2008-04-01T00:00:00",
                                        "2008-05-01T00:00:00",
                                        "2008-06-01T00:00:00",
                                        "2008-07-01T00:00:00",
                                        "2008-08-01T00:00:00",
                                        "2008-09-01T00:00:00",
                                        "2008-10-01T00:00:00",
                                        "2008-11-01T00:00:00",
                                        "2008-12-01T00:00:00",
                                        "2009-01-01T00:00:00",
                                        "2009-02-01T00:00:00",
                                        "2009-03-01T00:00:00",
                                        "2009-04-01T00:00:00",
                                        "2009-05-01T00:00:00",
                                        "2009-06-01T00:00:00",
                                        "2009-07-01T00:00:00",
                                        "2009-08-01T00:00:00",
                                        "2009-09-01T00:00:00",
                                        "2009-10-01T00:00:00",
                                        "2009-11-01T00:00:00",
                                        "2009-12-01T00:00:00",
                                        "2010-01-01T00:00:00",
                                        "2010-02-01T00:00:00",
                                        "2010-03-01T00:00:00",
                                        "2010-04-01T00:00:00",
                                        "2010-05-01T00:00:00",
                                        "2010-06-01T00:00:00",
                                        "2010-07-01T00:00:00",
                                        "2010-08-01T00:00:00",
                                        "2010-09-01T00:00:00",
                                        "2010-10-01T00:00:00",
                                        "2010-11-01T00:00:00",
                                        "2010-12-01T00:00:00",
                                        "2011-01-01T00:00:00",
                                        "2011-02-01T00:00:00",
                                        "2011-03-01T00:00:00",
                                        "2011-04-01T00:00:00",
                                        "2011-05-01T00:00:00",
                                        "2011-06-01T00:00:00",
                                        "2011-07-01T00:00:00",
                                        "2011-08-01T00:00:00",
                                        "2011-09-01T00:00:00",
                                        "2011-10-01T00:00:00",
                                        "2011-11-01T00:00:00",
                                        "2011-12-01T00:00:00",
                                        "2012-01-01T00:00:00",
                                        "2012-02-01T00:00:00",
                                        "2012-03-01T00:00:00",
                                        "2012-04-01T00:00:00",
                                        "2012-05-01T00:00:00",
                                        "2012-06-01T00:00:00",
                                        "2012-07-01T00:00:00",
                                        "2012-08-01T00:00:00",
                                        "2012-09-01T00:00:00",
                                        "2012-10-01T00:00:00",
                                        "2012-11-01T00:00:00",
                                        "2012-12-01T00:00:00",
                                        "2013-01-01T00:00:00",
                                        "2013-02-01T00:00:00",
                                        "2013-03-01T00:00:00",
                                        "2013-04-01T00:00:00",
                                        "2013-05-01T00:00:00",
                                        "2013-06-01T00:00:00",
                                        "2013-07-01T00:00:00",
                                        "2013-08-01T00:00:00",
                                        "2013-09-01T00:00:00",
                                        "2013-10-01T00:00:00",
                                        "2013-11-01T00:00:00",
                                        "2013-12-01T00:00:00",
                                        "2014-01-01T00:00:00",
                                        "2014-02-01T00:00:00",
                                        "2014-03-01T00:00:00",
                                        "2014-04-01T00:00:00",
                                        "2014-05-01T00:00:00",
                                        "2014-06-01T00:00:00",
                                        "2014-07-01T00:00:00",
                                        "2014-08-01T00:00:00",
                                        "2014-09-01T00:00:00",
                                        "2014-10-01T00:00:00",
                                        "2014-11-01T00:00:00",
                                        "2014-12-01T00:00:00",
                                        "2015-01-01T00:00:00",
                                        "2015-02-01T00:00:00",
                                        "2015-03-01T00:00:00",
                                        "2015-04-01T00:00:00",
                                        "2015-05-01T00:00:00",
                                        "2015-06-01T00:00:00",
                                        "2015-07-01T00:00:00",
                                        "2015-08-01T00:00:00",
                                        "2015-09-01T00:00:00",
                                        "2015-10-01T00:00:00",
                                        "2015-11-01T00:00:00",
                                        "2015-12-01T00:00:00",
                                        "2016-01-01T00:00:00",
                                        "2016-02-01T00:00:00",
                                        "2016-03-01T00:00:00",
                                        "2016-04-01T00:00:00",
                                        "2016-05-01T00:00:00",
                                        "2016-06-01T00:00:00",
                                        "2016-07-01T00:00:00",
                                        "2016-08-01T00:00:00",
                                        "2016-09-01T00:00:00",
                                        "2016-10-01T00:00:00",
                                        "2016-11-01T00:00:00",
                                        "2016-12-01T00:00:00",
                                        "2017-01-01T00:00:00",
                                        "2017-02-01T00:00:00",
                                        "2017-03-01T00:00:00",
                                        "2017-04-01T00:00:00",
                                        "2017-05-01T00:00:00",
                                        "2017-06-01T00:00:00",
                                        "2017-07-01T00:00:00",
                                        "2017-08-01T00:00:00",
                                        "2017-09-01T00:00:00",
                                        "2017-10-01T00:00:00",
                                        "2017-11-01T00:00:00",
                                        "2017-12-01T00:00:00",
                                        "2018-01-01T00:00:00",
                                        "2018-02-01T00:00:00",
                                        "2018-03-01T00:00:00",
                                        "2018-04-01T00:00:00",
                                        "2018-05-01T00:00:00",
                                        "2018-06-01T00:00:00",
                                        "2018-07-01T00:00:00",
                                        "2018-08-01T00:00:00",
                                        "2018-09-01T00:00:00",
                                        "2018-10-01T00:00:00",
                                        "2018-11-01T00:00:00",
                                        "2018-12-01T00:00:00",
                                        "2019-01-01T00:00:00",
                                        "2019-02-01T00:00:00",
                                        "2019-03-01T00:00:00",
                                        "2019-04-01T00:00:00",
                                        "2019-05-01T00:00:00",
                                        "2019-06-01T00:00:00",
                                        "2019-07-01T00:00:00",
                                        "2019-08-01T00:00:00",
                                        "2019-09-01T00:00:00",
                                        "2019-10-01T00:00:00",
                                        "2019-11-01T00:00:00",
                                        "2019-12-01T00:00:00",
                                        "2020-01-01T00:00:00",
                                        "2020-02-01T00:00:00",
                                        "2020-03-01T00:00:00",
                                        "2020-04-01T00:00:00",
                                        "2020-05-01T00:00:00",
                                        "2020-06-01T00:00:00",
                                        "2020-07-01T00:00:00",
                                        "2020-08-01T00:00:00",
                                        "2020-09-01T00:00:00",
                                        "2020-10-01T00:00:00",
                                        "2020-11-01T00:00:00",
                                        "2020-12-01T00:00:00"
                                    ],
                                    "xaxis": "x",
                                    "y": [
                                        null,
                                        null,
                                        null,
                                        null,
                                        null,
                                        null,
                                        null,
                                        null,
                                        null,
                                        null,
                                        null,
                                        105298.75639557447,
                                        112538.73754653626,
                                        123521.55656660233,
                                        199740.01404467796,
                                        228362.9485738788,
                                        225864.62137110712,
                                        240072.59405102095,
                                        229254.4601645865,
                                        208502.0970916263,
                                        191179.90097959584,
                                        241775.9778342745,
                                        247012.9260601924,
                                        248643.30073754047,
                                        258055.57540147778,
                                        258497.31237678786,
                                        230289.97334421382,
                                        207719.2318567883,
                                        211903.62141863754,
                                        210512.03877278054,
                                        211016.51230669903,
                                        211843.84970617687,
                                        209935.44026026822,
                                        161138.34236701013,
                                        130425.6691274122,
                                        133733.91469596987,
                                        103644.30210927916,
                                        103777.71097427637,
                                        126592.5347018626,
                                        222295.78291265425,
                                        260146.57578971432,
                                        250556.68465197226,
                                        247387.68016225184,
                                        234225.60843644806,
                                        230465.39930810107,
                                        229332.9663195179,
                                        235907.9324707122,
                                        247567.829652422,
                                        287118.49652537616,
                                        307843.3616138566,
                                        320046.21304841083,
                                        284644.21235559636,
                                        242676.20313275827,
                                        222440.1726399331,
                                        182968.8538303716,
                                        141723.71153086278,
                                        110459.17771395136,
                                        73645.99486342826,
                                        54286.329493167636,
                                        54007.54263287933,
                                        51708.343371667586,
                                        52739.653959042524,
                                        59565.38444050622,
                                        56896.959968516196,
                                        53288.989936447564,
                                        51331.55514081064,
                                        39933.8555321037,
                                        35837.924205137286,
                                        35419.298573292974,
                                        35688.467203788554,
                                        41805.72821124576,
                                        40760.11391601821,
                                        47205.600365940656,
                                        46447.05104666626,
                                        65730.45080870009,
                                        62497.59852422519,
                                        60890.47972284801,
                                        58767.33023284914,
                                        53592.742443057985,
                                        59055.147110174126,
                                        53862.954304923755,
                                        59400.367524304755,
                                        69063.57258988658,
                                        72379.97747802519,
                                        103982.7787074715,
                                        109123.83875306182,
                                        159046.59037610586,
                                        167091.39046176668,
                                        175014.64882920557,
                                        166878.08268985443,
                                        156766.72637934494,
                                        148999.9210423556,
                                        121542.32152513413,
                                        112216.17595148041,
                                        104474.71823230272,
                                        98058.92874355025,
                                        98101.85166216172,
                                        93012.84509613772,
                                        83514.61901762121,
                                        83465.81585200159,
                                        90389.38721740074,
                                        107572.31952448601,
                                        114859.7590213661,
                                        105898.52492072625,
                                        106178.52770041644,
                                        97889.62655177656,
                                        96767.1185925068,
                                        117544.32627375433,
                                        116421.69319888261,
                                        131752.58699374655,
                                        137724.3021851469,
                                        135207.4744843033,
                                        135074.00353349815,
                                        151072.53706565543,
                                        155252.4642553635,
                                        160844.0542481101,
                                        133824.86355984036,
                                        136015.80153913223,
                                        134916.1391136457,
                                        142096.98060668688,
                                        140642.82587171337,
                                        97305.76512316115,
                                        97581.59961931557,
                                        98208.49368840108,
                                        93050.03982103511,
                                        113534.71929966527,
                                        127222.08125723878,
                                        128720.86749205939,
                                        128161.78527971022,
                                        130811.76553176358,
                                        131192.21938391772,
                                        130147.49334737596,
                                        127976.39277293859,
                                        158247.52619127507,
                                        160090.75574744184,
                                        158971.5252289078,
                                        163782.04687956432,
                                        148352.16690584028,
                                        179848.15142298336,
                                        183507.0001832746,
                                        184400.83736915665,
                                        187664.18926966758,
                                        195340.4968153296,
                                        204873.25977118613,
                                        213160.99746300548,
                                        197763.9771721104,
                                        196872.73773145425,
                                        194512.48103560854,
                                        190426.50167172373,
                                        193427.70512895437,
                                        179941.99117011108,
                                        184614.38270053797,
                                        187020.96107671937,
                                        188065.01957589696,
                                        188905.5108144275,
                                        209760.71159776126,
                                        192243.32393584092,
                                        165614.64569904996,
                                        172363.78310633113,
                                        165555.25676256488,
                                        156673.09208152318,
                                        158989.3029123886,
                                        152503.8415940101,
                                        156526.9989498347,
                                        149586.24963937482,
                                        148121.80788210858,
                                        145633.12197207232,
                                        233325.3002355276,
                                        247610.98775717197,
                                        242516.0147324838,
                                        256680.55020003257,
                                        248168.33686815907,
                                        242704.74697346464,
                                        239295.73958349007,
                                        236310.48099590087,
                                        219207.1981318347,
                                        211621.21641780232,
                                        203820.48000115275,
                                        195194.83681841323,
                                        129810.44046570497,
                                        119641.89634636727,
                                        146574.4869331581,
                                        120259.60397242667,
                                        128396.90325146873,
                                        131322.10934694952,
                                        153679.56973488806,
                                        153300.84817818302,
                                        150291.70890302374,
                                        150615.18626525844,
                                        149033.29188907507,
                                        154291.93119191492,
                                        181999.1982477104,
                                        189730.52819123777,
                                        180209.30556506015,
                                        178894.72400478667,
                                        177797.30421778737,
                                        177400.78141153447,
                                        156960.89849955193,
                                        160228.16502611243,
                                        162432.53173629934,
                                        160568.63312961336,
                                        159800.71180379234,
                                        154273.0228343428,
                                        168132.89433298455,
                                        166238.76732323956,
                                        170337.88205182133,
                                        170193.97684965288,
                                        167675.73161500576,
                                        175182.3572635753,
                                        174532.01153758226,
                                        173520.158122034,
                                        174179.89890853254,
                                        175544.46393458862,
                                        175119.0041441699,
                                        178699.98072872256,
                                        133124.26545931533,
                                        125143.17083568542,
                                        124552.55340797277,
                                        122532.99115154418,
                                        135006.66936578145,
                                        140203.12641444692,
                                        146228.51902009262,
                                        149792.8147640293,
                                        152683.34246525576,
                                        152512.96601776787,
                                        150979.14105444105,
                                        152731.0711487396,
                                        140468.96381558166,
                                        135833.38277485242,
                                        132514.79876076107,
                                        142113.58640495178,
                                        126009.55935198799,
                                        111956.42734898617,
                                        125211.46040304744,
                                        136711.90500652778,
                                        141386.3189149927,
                                        151910.7773545158,
                                        157988.23346526796,
                                        160640.75756670473,
                                        164355.7690849762,
                                        164246.79932850433,
                                        277567.2610804928,
                                        489134.51183929463,
                                        742260.5679728817,
                                        893781.0323546822,
                                        966946.8698619959,
                                        989192.2905081774,
                                        976851.1108947347,
                                        964515.7196223456,
                                        916118.3463196681,
                                        838476.989627012,
                                        708793.1180710536
                                    ],
                                    "yaxis": "y"
                                }
                            ],
                            "layout": {
                                "legend": {
                                    "title": {
                                        "text": "type"
                                    },
                                    "tracegroupgap": 0
                                },
                                "margin": {
                                    "t": 60
                                },
                                "template": {
                                    "data": {
                                        "bar": [
                                            {
                                                "error_x": {
                                                    "color": "#2a3f5f"
                                                },
                                                "error_y": {
                                                    "color": "#2a3f5f"
                                                },
                                                "marker": {
                                                    "line": {
                                                        "color": "#E5ECF6",
                                                        "width": 0.5
                                                    },
                                                    "pattern": {
                                                        "fillmode": "overlay",
                                                        "size": 10,
                                                        "solidity": 0.2
                                                    }
                                                },
                                                "type": "bar"
                                            }
                                        ],
                                        "barpolar": [
                                            {
                                                "marker": {
                                                    "line": {
                                                        "color": "#E5ECF6",
                                                        "width": 0.5
                                                    },
                                                    "pattern": {
                                                        "fillmode": "overlay",
                                                        "size": 10,
                                                        "solidity": 0.2
                                                    }
                                                },
                                                "type": "barpolar"
                                            }
                                        ],
                                        "carpet": [
                                            {
                                                "aaxis": {
                                                    "endlinecolor": "#2a3f5f",
                                                    "gridcolor": "white",
                                                    "linecolor": "white",
                                                    "minorgridcolor": "white",
                                                    "startlinecolor": "#2a3f5f"
                                                },
                                                "baxis": {
                                                    "endlinecolor": "#2a3f5f",
                                                    "gridcolor": "white",
                                                    "linecolor": "white",
                                                    "minorgridcolor": "white",
                                                    "startlinecolor": "#2a3f5f"
                                                },
                                                "type": "carpet"
                                            }
                                        ],
                                        "choropleth": [
                                            {
                                                "colorbar": {
                                                    "outlinewidth": 0,
                                                    "ticks": ""
                                                },
                                                "type": "choropleth"
                                            }
                                        ],
                                        "contour": [
                                            {
                                                "colorbar": {
                                                    "outlinewidth": 0,
                                                    "ticks": ""
                                                },
                                                "colorscale": [
                                                    [
                                                        0,
                                                        "#0d0887"
                                                    ],
                                                    [
                                                        0.1111111111111111,
                                                        "#46039f"
                                                    ],
                                                    [
                                                        0.2222222222222222,
                                                        "#7201a8"
                                                    ],
                                                    [
                                                        0.3333333333333333,
                                                        "#9c179e"
                                                    ],
                                                    [
                                                        0.4444444444444444,
                                                        "#bd3786"
                                                    ],
                                                    [
                                                        0.5555555555555556,
                                                        "#d8576b"
                                                    ],
                                                    [
                                                        0.6666666666666666,
                                                        "#ed7953"
                                                    ],
                                                    [
                                                        0.7777777777777778,
                                                        "#fb9f3a"
                                                    ],
                                                    [
                                                        0.8888888888888888,
                                                        "#fdca26"
                                                    ],
                                                    [
                                                        1,
                                                        "#f0f921"
                                                    ]
                                                ],
                                                "type": "contour"
                                            }
                                        ],
                                        "contourcarpet": [
                                            {
                                                "colorbar": {
                                                    "outlinewidth": 0,
                                                    "ticks": ""
                                                },
                                                "type": "contourcarpet"
                                            }
                                        ],
                                        "heatmap": [
                                            {
                                                "colorbar": {
                                                    "outlinewidth": 0,
                                                    "ticks": ""
                                                },
                                                "colorscale": [
                                                    [
                                                        0,
                                                        "#0d0887"
                                                    ],
                                                    [
                                                        0.1111111111111111,
                                                        "#46039f"
                                                    ],
                                                    [
                                                        0.2222222222222222,
                                                        "#7201a8"
                                                    ],
                                                    [
                                                        0.3333333333333333,
                                                        "#9c179e"
                                                    ],
                                                    [
                                                        0.4444444444444444,
                                                        "#bd3786"
                                                    ],
                                                    [
                                                        0.5555555555555556,
                                                        "#d8576b"
                                                    ],
                                                    [
                                                        0.6666666666666666,
                                                        "#ed7953"
                                                    ],
                                                    [
                                                        0.7777777777777778,
                                                        "#fb9f3a"
                                                    ],
                                                    [
                                                        0.8888888888888888,
                                                        "#fdca26"
                                                    ],
                                                    [
                                                        1,
                                                        "#f0f921"
                                                    ]
                                                ],
                                                "type": "heatmap"
                                            }
                                        ],
                                        "heatmapgl": [
                                            {
                                                "colorbar": {
                                                    "outlinewidth": 0,
                                                    "ticks": ""
                                                },
                                                "colorscale": [
                                                    [
                                                        0,
                                                        "#0d0887"
                                                    ],
                                                    [
                                                        0.1111111111111111,
                                                        "#46039f"
                                                    ],
                                                    [
                                                        0.2222222222222222,
                                                        "#7201a8"
                                                    ],
                                                    [
                                                        0.3333333333333333,
                                                        "#9c179e"
                                                    ],
                                                    [
                                                        0.4444444444444444,
                                                        "#bd3786"
                                                    ],
                                                    [
                                                        0.5555555555555556,
                                                        "#d8576b"
                                                    ],
                                                    [
                                                        0.6666666666666666,
                                                        "#ed7953"
                                                    ],
                                                    [
                                                        0.7777777777777778,
                                                        "#fb9f3a"
                                                    ],
                                                    [
                                                        0.8888888888888888,
                                                        "#fdca26"
                                                    ],
                                                    [
                                                        1,
                                                        "#f0f921"
                                                    ]
                                                ],
                                                "type": "heatmapgl"
                                            }
                                        ],
                                        "histogram": [
                                            {
                                                "marker": {
                                                    "pattern": {
                                                        "fillmode": "overlay",
                                                        "size": 10,
                                                        "solidity": 0.2
                                                    }
                                                },
                                                "type": "histogram"
                                            }
                                        ],
                                        "histogram2d": [
                                            {
                                                "colorbar": {
                                                    "outlinewidth": 0,
                                                    "ticks": ""
                                                },
                                                "colorscale": [
                                                    [
                                                        0,
                                                        "#0d0887"
                                                    ],
                                                    [
                                                        0.1111111111111111,
                                                        "#46039f"
                                                    ],
                                                    [
                                                        0.2222222222222222,
                                                        "#7201a8"
                                                    ],
                                                    [
                                                        0.3333333333333333,
                                                        "#9c179e"
                                                    ],
                                                    [
                                                        0.4444444444444444,
                                                        "#bd3786"
                                                    ],
                                                    [
                                                        0.5555555555555556,
                                                        "#d8576b"
                                                    ],
                                                    [
                                                        0.6666666666666666,
                                                        "#ed7953"
                                                    ],
                                                    [
                                                        0.7777777777777778,
                                                        "#fb9f3a"
                                                    ],
                                                    [
                                                        0.8888888888888888,
                                                        "#fdca26"
                                                    ],
                                                    [
                                                        1,
                                                        "#f0f921"
                                                    ]
                                                ],
                                                "type": "histogram2d"
                                            }
                                        ],
                                        "histogram2dcontour": [
                                            {
                                                "colorbar": {
                                                    "outlinewidth": 0,
                                                    "ticks": ""
                                                },
                                                "colorscale": [
                                                    [
                                                        0,
                                                        "#0d0887"
                                                    ],
                                                    [
                                                        0.1111111111111111,
                                                        "#46039f"
                                                    ],
                                                    [
                                                        0.2222222222222222,
                                                        "#7201a8"
                                                    ],
                                                    [
                                                        0.3333333333333333,
                                                        "#9c179e"
                                                    ],
                                                    [
                                                        0.4444444444444444,
                                                        "#bd3786"
                                                    ],
                                                    [
                                                        0.5555555555555556,
                                                        "#d8576b"
                                                    ],
                                                    [
                                                        0.6666666666666666,
                                                        "#ed7953"
                                                    ],
                                                    [
                                                        0.7777777777777778,
                                                        "#fb9f3a"
                                                    ],
                                                    [
                                                        0.8888888888888888,
                                                        "#fdca26"
                                                    ],
                                                    [
                                                        1,
                                                        "#f0f921"
                                                    ]
                                                ],
                                                "type": "histogram2dcontour"
                                            }
                                        ],
                                        "mesh3d": [
                                            {
                                                "colorbar": {
                                                    "outlinewidth": 0,
                                                    "ticks": ""
                                                },
                                                "type": "mesh3d"
                                            }
                                        ],
                                        "parcoords": [
                                            {
                                                "line": {
                                                    "colorbar": {
                                                        "outlinewidth": 0,
                                                        "ticks": ""
                                                    }
                                                },
                                                "type": "parcoords"
                                            }
                                        ],
                                        "pie": [
                                            {
                                                "automargin": true,
                                                "type": "pie"
                                            }
                                        ],
                                        "scatter": [
                                            {
                                                "marker": {
                                                    "colorbar": {
                                                        "outlinewidth": 0,
                                                        "ticks": ""
                                                    }
                                                },
                                                "type": "scatter"
                                            }
                                        ],
                                        "scatter3d": [
                                            {
                                                "line": {
                                                    "colorbar": {
                                                        "outlinewidth": 0,
                                                        "ticks": ""
                                                    }
                                                },
                                                "marker": {
                                                    "colorbar": {
                                                        "outlinewidth": 0,
                                                        "ticks": ""
                                                    }
                                                },
                                                "type": "scatter3d"
                                            }
                                        ],
                                        "scattercarpet": [
                                            {
                                                "marker": {
                                                    "colorbar": {
                                                        "outlinewidth": 0,
                                                        "ticks": ""
                                                    }
                                                },
                                                "type": "scattercarpet"
                                            }
                                        ],
                                        "scattergeo": [
                                            {
                                                "marker": {
                                                    "colorbar": {
                                                        "outlinewidth": 0,
                                                        "ticks": ""
                                                    }
                                                },
                                                "type": "scattergeo"
                                            }
                                        ],
                                        "scattergl": [
                                            {
                                                "marker": {
                                                    "colorbar": {
                                                        "outlinewidth": 0,
                                                        "ticks": ""
                                                    }
                                                },
                                                "type": "scattergl"
                                            }
                                        ],
                                        "scattermapbox": [
                                            {
                                                "marker": {
                                                    "colorbar": {
                                                        "outlinewidth": 0,
                                                        "ticks": ""
                                                    }
                                                },
                                                "type": "scattermapbox"
                                            }
                                        ],
                                        "scatterpolar": [
                                            {
                                                "marker": {
                                                    "colorbar": {
                                                        "outlinewidth": 0,
                                                        "ticks": ""
                                                    }
                                                },
                                                "type": "scatterpolar"
                                            }
                                        ],
                                        "scatterpolargl": [
                                            {
                                                "marker": {
                                                    "colorbar": {
                                                        "outlinewidth": 0,
                                                        "ticks": ""
                                                    }
                                                },
                                                "type": "scatterpolargl"
                                            }
                                        ],
                                        "scatterternary": [
                                            {
                                                "marker": {
                                                    "colorbar": {
                                                        "outlinewidth": 0,
                                                        "ticks": ""
                                                    }
                                                },
                                                "type": "scatterternary"
                                            }
                                        ],
                                        "surface": [
                                            {
                                                "colorbar": {
                                                    "outlinewidth": 0,
                                                    "ticks": ""
                                                },
                                                "colorscale": [
                                                    [
                                                        0,
                                                        "#0d0887"
                                                    ],
                                                    [
                                                        0.1111111111111111,
                                                        "#46039f"
                                                    ],
                                                    [
                                                        0.2222222222222222,
                                                        "#7201a8"
                                                    ],
                                                    [
                                                        0.3333333333333333,
                                                        "#9c179e"
                                                    ],
                                                    [
                                                        0.4444444444444444,
                                                        "#bd3786"
                                                    ],
                                                    [
                                                        0.5555555555555556,
                                                        "#d8576b"
                                                    ],
                                                    [
                                                        0.6666666666666666,
                                                        "#ed7953"
                                                    ],
                                                    [
                                                        0.7777777777777778,
                                                        "#fb9f3a"
                                                    ],
                                                    [
                                                        0.8888888888888888,
                                                        "#fdca26"
                                                    ],
                                                    [
                                                        1,
                                                        "#f0f921"
                                                    ]
                                                ],
                                                "type": "surface"
                                            }
                                        ],
                                        "table": [
                                            {
                                                "cells": {
                                                    "fill": {
                                                        "color": "#EBF0F8"
                                                    },
                                                    "line": {
                                                        "color": "white"
                                                    }
                                                },
                                                "header": {
                                                    "fill": {
                                                        "color": "#C8D4E3"
                                                    },
                                                    "line": {
                                                        "color": "white"
                                                    }
                                                },
                                                "type": "table"
                                            }
                                        ]
                                    },
                                    "layout": {
                                        "annotationdefaults": {
                                            "arrowcolor": "#2a3f5f",
                                            "arrowhead": 0,
                                            "arrowwidth": 1
                                        },
                                        "autotypenumbers": "strict",
                                        "coloraxis": {
                                            "colorbar": {
                                                "outlinewidth": 0,
                                                "ticks": ""
                                            }
                                        },
                                        "colorscale": {
                                            "diverging": [
                                                [
                                                    0,
                                                    "#8e0152"
                                                ],
                                                [
                                                    0.1,
                                                    "#c51b7d"
                                                ],
                                                [
                                                    0.2,
                                                    "#de77ae"
                                                ],
                                                [
                                                    0.3,
                                                    "#f1b6da"
                                                ],
                                                [
                                                    0.4,
                                                    "#fde0ef"
                                                ],
                                                [
                                                    0.5,
                                                    "#f7f7f7"
                                                ],
                                                [
                                                    0.6,
                                                    "#e6f5d0"
                                                ],
                                                [
                                                    0.7,
                                                    "#b8e186"
                                                ],
                                                [
                                                    0.8,
                                                    "#7fbc41"
                                                ],
                                                [
                                                    0.9,
                                                    "#4d9221"
                                                ],
                                                [
                                                    1,
                                                    "#276419"
                                                ]
                                            ],
                                            "sequential": [
                                                [
                                                    0,
                                                    "#0d0887"
                                                ],
                                                [
                                                    0.1111111111111111,
                                                    "#46039f"
                                                ],
                                                [
                                                    0.2222222222222222,
                                                    "#7201a8"
                                                ],
                                                [
                                                    0.3333333333333333,
                                                    "#9c179e"
                                                ],
                                                [
                                                    0.4444444444444444,
                                                    "#bd3786"
                                                ],
                                                [
                                                    0.5555555555555556,
                                                    "#d8576b"
                                                ],
                                                [
                                                    0.6666666666666666,
                                                    "#ed7953"
                                                ],
                                                [
                                                    0.7777777777777778,
                                                    "#fb9f3a"
                                                ],
                                                [
                                                    0.8888888888888888,
                                                    "#fdca26"
                                                ],
                                                [
                                                    1,
                                                    "#f0f921"
                                                ]
                                            ],
                                            "sequentialminus": [
                                                [
                                                    0,
                                                    "#0d0887"
                                                ],
                                                [
                                                    0.1111111111111111,
                                                    "#46039f"
                                                ],
                                                [
                                                    0.2222222222222222,
                                                    "#7201a8"
                                                ],
                                                [
                                                    0.3333333333333333,
                                                    "#9c179e"
                                                ],
                                                [
                                                    0.4444444444444444,
                                                    "#bd3786"
                                                ],
                                                [
                                                    0.5555555555555556,
                                                    "#d8576b"
                                                ],
                                                [
                                                    0.6666666666666666,
                                                    "#ed7953"
                                                ],
                                                [
                                                    0.7777777777777778,
                                                    "#fb9f3a"
                                                ],
                                                [
                                                    0.8888888888888888,
                                                    "#fdca26"
                                                ],
                                                [
                                                    1,
                                                    "#f0f921"
                                                ]
                                            ]
                                        },
                                        "colorway": [
                                            "#636efa",
                                            "#EF553B",
                                            "#00cc96",
                                            "#ab63fa",
                                            "#FFA15A",
                                            "#19d3f3",
                                            "#FF6692",
                                            "#B6E880",
                                            "#FF97FF",
                                            "#FECB52"
                                        ],
                                        "font": {
                                            "color": "#2a3f5f"
                                        },
                                        "geo": {
                                            "bgcolor": "white",
                                            "lakecolor": "white",
                                            "landcolor": "#E5ECF6",
                                            "showlakes": true,
                                            "showland": true,
                                            "subunitcolor": "white"
                                        },
                                        "hoverlabel": {
                                            "align": "left"
                                        },
                                        "hovermode": "closest",
                                        "mapbox": {
                                            "style": "light"
                                        },
                                        "paper_bgcolor": "white",
                                        "plot_bgcolor": "#E5ECF6",
                                        "polar": {
                                            "angularaxis": {
                                                "gridcolor": "white",
                                                "linecolor": "white",
                                                "ticks": ""
                                            },
                                            "bgcolor": "#E5ECF6",
                                            "radialaxis": {
                                                "gridcolor": "white",
                                                "linecolor": "white",
                                                "ticks": ""
                                            }
                                        },
                                        "scene": {
                                            "xaxis": {
                                                "backgroundcolor": "#E5ECF6",
                                                "gridcolor": "white",
                                                "gridwidth": 2,
                                                "linecolor": "white",
                                                "showbackground": true,
                                                "ticks": "",
                                                "zerolinecolor": "white"
                                            },
                                            "yaxis": {
                                                "backgroundcolor": "#E5ECF6",
                                                "gridcolor": "white",
                                                "gridwidth": 2,
                                                "linecolor": "white",
                                                "showbackground": true,
                                                "ticks": "",
                                                "zerolinecolor": "white"
                                            },
                                            "zaxis": {
                                                "backgroundcolor": "#E5ECF6",
                                                "gridcolor": "white",
                                                "gridwidth": 2,
                                                "linecolor": "white",
                                                "showbackground": true,
                                                "ticks": "",
                                                "zerolinecolor": "white"
                                            }
                                        },
                                        "shapedefaults": {
                                            "line": {
                                                "color": "#2a3f5f"
                                            }
                                        },
                                        "ternary": {
                                            "aaxis": {
                                                "gridcolor": "white",
                                                "linecolor": "white",
                                                "ticks": ""
                                            },
                                            "baxis": {
                                                "gridcolor": "white",
                                                "linecolor": "white",
                                                "ticks": ""
                                            },
                                            "bgcolor": "#E5ECF6",
                                            "caxis": {
                                                "gridcolor": "white",
                                                "linecolor": "white",
                                                "ticks": ""
                                            }
                                        },
                                        "title": {
                                            "x": 0.05
                                        },
                                        "xaxis": {
                                            "automargin": true,
                                            "gridcolor": "white",
                                            "linecolor": "white",
                                            "ticks": "",
                                            "title": {
                                                "standoff": 15
                                            },
                                            "zerolinecolor": "white",
                                            "zerolinewidth": 2
                                        },
                                        "yaxis": {
                                            "automargin": true,
                                            "gridcolor": "white",
                                            "linecolor": "white",
                                            "ticks": "",
                                            "title": {
                                                "standoff": 15
                                            },
                                            "zerolinecolor": "white",
                                            "zerolinewidth": 2
                                        }
                                    }
                                },
                                "xaxis": {
                                    "anchor": "y",
                                    "domain": [
                                        0,
                                        1
                                    ],
                                    "title": {
                                        "text": "date"
                                    }
                                },
                                "yaxis": {
                                    "anchor": "x",
                                    "domain": [
                                        0,
                                        1
                                    ],
                                    "title": {
                                        "text": "value"
                                    }
                                }
                            }
                        }
                    },
                    "metadata": {}
                },
                {
                    "output_type": "display_data",
                    "data": {
                        "application/vnd.plotly.v1+json": {
                            "config": {
                                "plotlyServerURL": "https://plot.ly"
                            },
                            "data": [
                                {
                                    "alignmentgroup": "True",
                                    "bingroup": "x",
                                    "hovertemplate": "tourist_arrival=%{x}<br>count=%{y}<extra></extra>",
                                    "legendgroup": "",
                                    "marker": {
                                        "color": "#636efa",
                                        "pattern": {
                                            "shape": ""
                                        }
                                    },
                                    "name": "",
                                    "offsetgroup": "",
                                    "orientation": "v",
                                    "showlegend": false,
                                    "type": "histogram",
                                    "x": [
                                        731509,
                                        786040,
                                        737678,
                                        916382,
                                        894350,
                                        960782,
                                        811876,
                                        764500,
                                        778587,
                                        990658,
                                        806648,
                                        1042572,
                                        1052854,
                                        1090219,
                                        1492235,
                                        1358776,
                                        1038210,
                                        1308788,
                                        1125504,
                                        1149987,
                                        927206,
                                        596202,
                                        759321,
                                        975771,
                                        834519,
                                        986408,
                                        1272810,
                                        1106053,
                                        1153033,
                                        1297536,
                                        1135691,
                                        1163724,
                                        1029120,
                                        1015946,
                                        1061229,
                                        1253941,
                                        1070428,
                                        985343,
                                        819376,
                                        456374,
                                        541267,
                                        719047,
                                        753029,
                                        826234,
                                        943526,
                                        994858,
                                        1135493,
                                        1328940,
                                        1408378,
                                        1295913,
                                        1274230,
                                        1266824,
                                        1262717,
                                        1381355,
                                        1227052,
                                        1268237,
                                        1326549,
                                        1359498,
                                        1329208,
                                        1303445,
                                        1394032,
                                        1346550,
                                        1419275,
                                        1317749,
                                        1351141,
                                        1339051,
                                        1317276,
                                        1393666,
                                        1335027,
                                        1367735,
                                        1432317,
                                        1417236,
                                        1453803,
                                        1384479,
                                        1541056,
                                        1422576,
                                        1393656,
                                        1368651,
                                        1450319,
                                        1503748,
                                        1384890,
                                        1540070,
                                        1564286,
                                        1539329,
                                        1721786,
                                        1652004,
                                        1906304,
                                        1764868,
                                        1841870,
                                        1803594,
                                        1713951,
                                        1642899,
                                        1601016,
                                        1673922,
                                        1764586,
                                        1886022,
                                        1780134,
                                        1742468,
                                        1819689,
                                        1760326,
                                        1899148,
                                        1961355,
                                        1928082,
                                        1839235,
                                        1599418,
                                        1818304,
                                        1845645,
                                        2058684,
                                        1871099,
                                        1613309,
                                        1975776,
                                        1883873,
                                        1894059,
                                        2108328,
                                        2003724,
                                        2030337,
                                        1997535,
                                        2078485,
                                        2048595,
                                        2141071,
                                        1896918,
                                        1832300,
                                        2022590,
                                        1877934,
                                        1992277,
                                        2246084,
                                        2214092,
                                        2099485,
                                        2053406,
                                        2137735,
                                        2081354,
                                        2123021,
                                        1918751,
                                        1669288,
                                        1952343,
                                        1891350,
                                        1892095,
                                        2039035,
                                        2406100,
                                        2166937,
                                        2094104,
                                        2189014,
                                        2225534,
                                        2269773,
                                        1817061,
                                        1773471,
                                        1972006,
                                        1924129,
                                        1951925,
                                        2193886,
                                        2306675,
                                        2240687,
                                        1973803,
                                        2205979,
                                        2236473,
                                        2436613,
                                        2070394,
                                        2002709,
                                        2376295,
                                        1984982,
                                        2044039,
                                        2074312,
                                        2129393,
                                        1980960,
                                        2093392,
                                        2106569,
                                        2045850,
                                        2806565,
                                        2447397,
                                        2118540,
                                        2525496,
                                        2175009,
                                        2266417,
                                        2342187,
                                        2229920,
                                        2273271,
                                        2233545,
                                        2247666,
                                        2130022,
                                        2447845,
                                        2291603,
                                        1949016,
                                        2242077,
                                        2071922,
                                        2118890,
                                        1893792,
                                        2216049,
                                        2182536,
                                        2084339,
                                        2082866,
                                        2004694,
                                        2583467,
                                        2376166,
                                        2091098,
                                        2198716,
                                        2101280,
                                        2144119,
                                        2121396,
                                        2296615,
                                        2282173,
                                        2118367,
                                        2326487,
                                        2054165,
                                        2646810,
                                        2350270,
                                        2043215,
                                        2238184,
                                        2145734,
                                        2039016,
                                        2134647,
                                        2263478,
                                        2129013,
                                        2092378,
                                        2068995,
                                        2007965,
                                        2435564,
                                        2276750,
                                        2050613,
                                        2192855,
                                        1957248,
                                        1976981,
                                        2275921,
                                        2305324,
                                        2253534,
                                        2096889,
                                        2103975,
                                        1989842,
                                        2352422,
                                        2195684,
                                        2165933,
                                        2334613,
                                        2159517,
                                        2098267,
                                        2400561,
                                        2415097,
                                        2342438,
                                        1997093,
                                        2031198,
                                        1969315,
                                        1991068,
                                        2164459,
                                        1397912,
                                        671084,
                                        7546,
                                        5411,
                                        6585,
                                        18660,
                                        11631,
                                        16131,
                                        11315,
                                        11420,
                                        10568
                                    ],
                                    "xaxis": "x",
                                    "yaxis": "y"
                                }
                            ],
                            "layout": {
                                "barmode": "relative",
                                "legend": {
                                    "tracegroupgap": 0
                                },
                                "margin": {
                                    "t": 60
                                },
                                "template": {
                                    "data": {
                                        "bar": [
                                            {
                                                "error_x": {
                                                    "color": "#2a3f5f"
                                                },
                                                "error_y": {
                                                    "color": "#2a3f5f"
                                                },
                                                "marker": {
                                                    "line": {
                                                        "color": "#E5ECF6",
                                                        "width": 0.5
                                                    },
                                                    "pattern": {
                                                        "fillmode": "overlay",
                                                        "size": 10,
                                                        "solidity": 0.2
                                                    }
                                                },
                                                "type": "bar"
                                            }
                                        ],
                                        "barpolar": [
                                            {
                                                "marker": {
                                                    "line": {
                                                        "color": "#E5ECF6",
                                                        "width": 0.5
                                                    },
                                                    "pattern": {
                                                        "fillmode": "overlay",
                                                        "size": 10,
                                                        "solidity": 0.2
                                                    }
                                                },
                                                "type": "barpolar"
                                            }
                                        ],
                                        "carpet": [
                                            {
                                                "aaxis": {
                                                    "endlinecolor": "#2a3f5f",
                                                    "gridcolor": "white",
                                                    "linecolor": "white",
                                                    "minorgridcolor": "white",
                                                    "startlinecolor": "#2a3f5f"
                                                },
                                                "baxis": {
                                                    "endlinecolor": "#2a3f5f",
                                                    "gridcolor": "white",
                                                    "linecolor": "white",
                                                    "minorgridcolor": "white",
                                                    "startlinecolor": "#2a3f5f"
                                                },
                                                "type": "carpet"
                                            }
                                        ],
                                        "choropleth": [
                                            {
                                                "colorbar": {
                                                    "outlinewidth": 0,
                                                    "ticks": ""
                                                },
                                                "type": "choropleth"
                                            }
                                        ],
                                        "contour": [
                                            {
                                                "colorbar": {
                                                    "outlinewidth": 0,
                                                    "ticks": ""
                                                },
                                                "colorscale": [
                                                    [
                                                        0,
                                                        "#0d0887"
                                                    ],
                                                    [
                                                        0.1111111111111111,
                                                        "#46039f"
                                                    ],
                                                    [
                                                        0.2222222222222222,
                                                        "#7201a8"
                                                    ],
                                                    [
                                                        0.3333333333333333,
                                                        "#9c179e"
                                                    ],
                                                    [
                                                        0.4444444444444444,
                                                        "#bd3786"
                                                    ],
                                                    [
                                                        0.5555555555555556,
                                                        "#d8576b"
                                                    ],
                                                    [
                                                        0.6666666666666666,
                                                        "#ed7953"
                                                    ],
                                                    [
                                                        0.7777777777777778,
                                                        "#fb9f3a"
                                                    ],
                                                    [
                                                        0.8888888888888888,
                                                        "#fdca26"
                                                    ],
                                                    [
                                                        1,
                                                        "#f0f921"
                                                    ]
                                                ],
                                                "type": "contour"
                                            }
                                        ],
                                        "contourcarpet": [
                                            {
                                                "colorbar": {
                                                    "outlinewidth": 0,
                                                    "ticks": ""
                                                },
                                                "type": "contourcarpet"
                                            }
                                        ],
                                        "heatmap": [
                                            {
                                                "colorbar": {
                                                    "outlinewidth": 0,
                                                    "ticks": ""
                                                },
                                                "colorscale": [
                                                    [
                                                        0,
                                                        "#0d0887"
                                                    ],
                                                    [
                                                        0.1111111111111111,
                                                        "#46039f"
                                                    ],
                                                    [
                                                        0.2222222222222222,
                                                        "#7201a8"
                                                    ],
                                                    [
                                                        0.3333333333333333,
                                                        "#9c179e"
                                                    ],
                                                    [
                                                        0.4444444444444444,
                                                        "#bd3786"
                                                    ],
                                                    [
                                                        0.5555555555555556,
                                                        "#d8576b"
                                                    ],
                                                    [
                                                        0.6666666666666666,
                                                        "#ed7953"
                                                    ],
                                                    [
                                                        0.7777777777777778,
                                                        "#fb9f3a"
                                                    ],
                                                    [
                                                        0.8888888888888888,
                                                        "#fdca26"
                                                    ],
                                                    [
                                                        1,
                                                        "#f0f921"
                                                    ]
                                                ],
                                                "type": "heatmap"
                                            }
                                        ],
                                        "heatmapgl": [
                                            {
                                                "colorbar": {
                                                    "outlinewidth": 0,
                                                    "ticks": ""
                                                },
                                                "colorscale": [
                                                    [
                                                        0,
                                                        "#0d0887"
                                                    ],
                                                    [
                                                        0.1111111111111111,
                                                        "#46039f"
                                                    ],
                                                    [
                                                        0.2222222222222222,
                                                        "#7201a8"
                                                    ],
                                                    [
                                                        0.3333333333333333,
                                                        "#9c179e"
                                                    ],
                                                    [
                                                        0.4444444444444444,
                                                        "#bd3786"
                                                    ],
                                                    [
                                                        0.5555555555555556,
                                                        "#d8576b"
                                                    ],
                                                    [
                                                        0.6666666666666666,
                                                        "#ed7953"
                                                    ],
                                                    [
                                                        0.7777777777777778,
                                                        "#fb9f3a"
                                                    ],
                                                    [
                                                        0.8888888888888888,
                                                        "#fdca26"
                                                    ],
                                                    [
                                                        1,
                                                        "#f0f921"
                                                    ]
                                                ],
                                                "type": "heatmapgl"
                                            }
                                        ],
                                        "histogram": [
                                            {
                                                "marker": {
                                                    "pattern": {
                                                        "fillmode": "overlay",
                                                        "size": 10,
                                                        "solidity": 0.2
                                                    }
                                                },
                                                "type": "histogram"
                                            }
                                        ],
                                        "histogram2d": [
                                            {
                                                "colorbar": {
                                                    "outlinewidth": 0,
                                                    "ticks": ""
                                                },
                                                "colorscale": [
                                                    [
                                                        0,
                                                        "#0d0887"
                                                    ],
                                                    [
                                                        0.1111111111111111,
                                                        "#46039f"
                                                    ],
                                                    [
                                                        0.2222222222222222,
                                                        "#7201a8"
                                                    ],
                                                    [
                                                        0.3333333333333333,
                                                        "#9c179e"
                                                    ],
                                                    [
                                                        0.4444444444444444,
                                                        "#bd3786"
                                                    ],
                                                    [
                                                        0.5555555555555556,
                                                        "#d8576b"
                                                    ],
                                                    [
                                                        0.6666666666666666,
                                                        "#ed7953"
                                                    ],
                                                    [
                                                        0.7777777777777778,
                                                        "#fb9f3a"
                                                    ],
                                                    [
                                                        0.8888888888888888,
                                                        "#fdca26"
                                                    ],
                                                    [
                                                        1,
                                                        "#f0f921"
                                                    ]
                                                ],
                                                "type": "histogram2d"
                                            }
                                        ],
                                        "histogram2dcontour": [
                                            {
                                                "colorbar": {
                                                    "outlinewidth": 0,
                                                    "ticks": ""
                                                },
                                                "colorscale": [
                                                    [
                                                        0,
                                                        "#0d0887"
                                                    ],
                                                    [
                                                        0.1111111111111111,
                                                        "#46039f"
                                                    ],
                                                    [
                                                        0.2222222222222222,
                                                        "#7201a8"
                                                    ],
                                                    [
                                                        0.3333333333333333,
                                                        "#9c179e"
                                                    ],
                                                    [
                                                        0.4444444444444444,
                                                        "#bd3786"
                                                    ],
                                                    [
                                                        0.5555555555555556,
                                                        "#d8576b"
                                                    ],
                                                    [
                                                        0.6666666666666666,
                                                        "#ed7953"
                                                    ],
                                                    [
                                                        0.7777777777777778,
                                                        "#fb9f3a"
                                                    ],
                                                    [
                                                        0.8888888888888888,
                                                        "#fdca26"
                                                    ],
                                                    [
                                                        1,
                                                        "#f0f921"
                                                    ]
                                                ],
                                                "type": "histogram2dcontour"
                                            }
                                        ],
                                        "mesh3d": [
                                            {
                                                "colorbar": {
                                                    "outlinewidth": 0,
                                                    "ticks": ""
                                                },
                                                "type": "mesh3d"
                                            }
                                        ],
                                        "parcoords": [
                                            {
                                                "line": {
                                                    "colorbar": {
                                                        "outlinewidth": 0,
                                                        "ticks": ""
                                                    }
                                                },
                                                "type": "parcoords"
                                            }
                                        ],
                                        "pie": [
                                            {
                                                "automargin": true,
                                                "type": "pie"
                                            }
                                        ],
                                        "scatter": [
                                            {
                                                "marker": {
                                                    "colorbar": {
                                                        "outlinewidth": 0,
                                                        "ticks": ""
                                                    }
                                                },
                                                "type": "scatter"
                                            }
                                        ],
                                        "scatter3d": [
                                            {
                                                "line": {
                                                    "colorbar": {
                                                        "outlinewidth": 0,
                                                        "ticks": ""
                                                    }
                                                },
                                                "marker": {
                                                    "colorbar": {
                                                        "outlinewidth": 0,
                                                        "ticks": ""
                                                    }
                                                },
                                                "type": "scatter3d"
                                            }
                                        ],
                                        "scattercarpet": [
                                            {
                                                "marker": {
                                                    "colorbar": {
                                                        "outlinewidth": 0,
                                                        "ticks": ""
                                                    }
                                                },
                                                "type": "scattercarpet"
                                            }
                                        ],
                                        "scattergeo": [
                                            {
                                                "marker": {
                                                    "colorbar": {
                                                        "outlinewidth": 0,
                                                        "ticks": ""
                                                    }
                                                },
                                                "type": "scattergeo"
                                            }
                                        ],
                                        "scattergl": [
                                            {
                                                "marker": {
                                                    "colorbar": {
                                                        "outlinewidth": 0,
                                                        "ticks": ""
                                                    }
                                                },
                                                "type": "scattergl"
                                            }
                                        ],
                                        "scattermapbox": [
                                            {
                                                "marker": {
                                                    "colorbar": {
                                                        "outlinewidth": 0,
                                                        "ticks": ""
                                                    }
                                                },
                                                "type": "scattermapbox"
                                            }
                                        ],
                                        "scatterpolar": [
                                            {
                                                "marker": {
                                                    "colorbar": {
                                                        "outlinewidth": 0,
                                                        "ticks": ""
                                                    }
                                                },
                                                "type": "scatterpolar"
                                            }
                                        ],
                                        "scatterpolargl": [
                                            {
                                                "marker": {
                                                    "colorbar": {
                                                        "outlinewidth": 0,
                                                        "ticks": ""
                                                    }
                                                },
                                                "type": "scatterpolargl"
                                            }
                                        ],
                                        "scatterternary": [
                                            {
                                                "marker": {
                                                    "colorbar": {
                                                        "outlinewidth": 0,
                                                        "ticks": ""
                                                    }
                                                },
                                                "type": "scatterternary"
                                            }
                                        ],
                                        "surface": [
                                            {
                                                "colorbar": {
                                                    "outlinewidth": 0,
                                                    "ticks": ""
                                                },
                                                "colorscale": [
                                                    [
                                                        0,
                                                        "#0d0887"
                                                    ],
                                                    [
                                                        0.1111111111111111,
                                                        "#46039f"
                                                    ],
                                                    [
                                                        0.2222222222222222,
                                                        "#7201a8"
                                                    ],
                                                    [
                                                        0.3333333333333333,
                                                        "#9c179e"
                                                    ],
                                                    [
                                                        0.4444444444444444,
                                                        "#bd3786"
                                                    ],
                                                    [
                                                        0.5555555555555556,
                                                        "#d8576b"
                                                    ],
                                                    [
                                                        0.6666666666666666,
                                                        "#ed7953"
                                                    ],
                                                    [
                                                        0.7777777777777778,
                                                        "#fb9f3a"
                                                    ],
                                                    [
                                                        0.8888888888888888,
                                                        "#fdca26"
                                                    ],
                                                    [
                                                        1,
                                                        "#f0f921"
                                                    ]
                                                ],
                                                "type": "surface"
                                            }
                                        ],
                                        "table": [
                                            {
                                                "cells": {
                                                    "fill": {
                                                        "color": "#EBF0F8"
                                                    },
                                                    "line": {
                                                        "color": "white"
                                                    }
                                                },
                                                "header": {
                                                    "fill": {
                                                        "color": "#C8D4E3"
                                                    },
                                                    "line": {
                                                        "color": "white"
                                                    }
                                                },
                                                "type": "table"
                                            }
                                        ]
                                    },
                                    "layout": {
                                        "annotationdefaults": {
                                            "arrowcolor": "#2a3f5f",
                                            "arrowhead": 0,
                                            "arrowwidth": 1
                                        },
                                        "autotypenumbers": "strict",
                                        "coloraxis": {
                                            "colorbar": {
                                                "outlinewidth": 0,
                                                "ticks": ""
                                            }
                                        },
                                        "colorscale": {
                                            "diverging": [
                                                [
                                                    0,
                                                    "#8e0152"
                                                ],
                                                [
                                                    0.1,
                                                    "#c51b7d"
                                                ],
                                                [
                                                    0.2,
                                                    "#de77ae"
                                                ],
                                                [
                                                    0.3,
                                                    "#f1b6da"
                                                ],
                                                [
                                                    0.4,
                                                    "#fde0ef"
                                                ],
                                                [
                                                    0.5,
                                                    "#f7f7f7"
                                                ],
                                                [
                                                    0.6,
                                                    "#e6f5d0"
                                                ],
                                                [
                                                    0.7,
                                                    "#b8e186"
                                                ],
                                                [
                                                    0.8,
                                                    "#7fbc41"
                                                ],
                                                [
                                                    0.9,
                                                    "#4d9221"
                                                ],
                                                [
                                                    1,
                                                    "#276419"
                                                ]
                                            ],
                                            "sequential": [
                                                [
                                                    0,
                                                    "#0d0887"
                                                ],
                                                [
                                                    0.1111111111111111,
                                                    "#46039f"
                                                ],
                                                [
                                                    0.2222222222222222,
                                                    "#7201a8"
                                                ],
                                                [
                                                    0.3333333333333333,
                                                    "#9c179e"
                                                ],
                                                [
                                                    0.4444444444444444,
                                                    "#bd3786"
                                                ],
                                                [
                                                    0.5555555555555556,
                                                    "#d8576b"
                                                ],
                                                [
                                                    0.6666666666666666,
                                                    "#ed7953"
                                                ],
                                                [
                                                    0.7777777777777778,
                                                    "#fb9f3a"
                                                ],
                                                [
                                                    0.8888888888888888,
                                                    "#fdca26"
                                                ],
                                                [
                                                    1,
                                                    "#f0f921"
                                                ]
                                            ],
                                            "sequentialminus": [
                                                [
                                                    0,
                                                    "#0d0887"
                                                ],
                                                [
                                                    0.1111111111111111,
                                                    "#46039f"
                                                ],
                                                [
                                                    0.2222222222222222,
                                                    "#7201a8"
                                                ],
                                                [
                                                    0.3333333333333333,
                                                    "#9c179e"
                                                ],
                                                [
                                                    0.4444444444444444,
                                                    "#bd3786"
                                                ],
                                                [
                                                    0.5555555555555556,
                                                    "#d8576b"
                                                ],
                                                [
                                                    0.6666666666666666,
                                                    "#ed7953"
                                                ],
                                                [
                                                    0.7777777777777778,
                                                    "#fb9f3a"
                                                ],
                                                [
                                                    0.8888888888888888,
                                                    "#fdca26"
                                                ],
                                                [
                                                    1,
                                                    "#f0f921"
                                                ]
                                            ]
                                        },
                                        "colorway": [
                                            "#636efa",
                                            "#EF553B",
                                            "#00cc96",
                                            "#ab63fa",
                                            "#FFA15A",
                                            "#19d3f3",
                                            "#FF6692",
                                            "#B6E880",
                                            "#FF97FF",
                                            "#FECB52"
                                        ],
                                        "font": {
                                            "color": "#2a3f5f"
                                        },
                                        "geo": {
                                            "bgcolor": "white",
                                            "lakecolor": "white",
                                            "landcolor": "#E5ECF6",
                                            "showlakes": true,
                                            "showland": true,
                                            "subunitcolor": "white"
                                        },
                                        "hoverlabel": {
                                            "align": "left"
                                        },
                                        "hovermode": "closest",
                                        "mapbox": {
                                            "style": "light"
                                        },
                                        "paper_bgcolor": "white",
                                        "plot_bgcolor": "#E5ECF6",
                                        "polar": {
                                            "angularaxis": {
                                                "gridcolor": "white",
                                                "linecolor": "white",
                                                "ticks": ""
                                            },
                                            "bgcolor": "#E5ECF6",
                                            "radialaxis": {
                                                "gridcolor": "white",
                                                "linecolor": "white",
                                                "ticks": ""
                                            }
                                        },
                                        "scene": {
                                            "xaxis": {
                                                "backgroundcolor": "#E5ECF6",
                                                "gridcolor": "white",
                                                "gridwidth": 2,
                                                "linecolor": "white",
                                                "showbackground": true,
                                                "ticks": "",
                                                "zerolinecolor": "white"
                                            },
                                            "yaxis": {
                                                "backgroundcolor": "#E5ECF6",
                                                "gridcolor": "white",
                                                "gridwidth": 2,
                                                "linecolor": "white",
                                                "showbackground": true,
                                                "ticks": "",
                                                "zerolinecolor": "white"
                                            },
                                            "zaxis": {
                                                "backgroundcolor": "#E5ECF6",
                                                "gridcolor": "white",
                                                "gridwidth": 2,
                                                "linecolor": "white",
                                                "showbackground": true,
                                                "ticks": "",
                                                "zerolinecolor": "white"
                                            }
                                        },
                                        "shapedefaults": {
                                            "line": {
                                                "color": "#2a3f5f"
                                            }
                                        },
                                        "ternary": {
                                            "aaxis": {
                                                "gridcolor": "white",
                                                "linecolor": "white",
                                                "ticks": ""
                                            },
                                            "baxis": {
                                                "gridcolor": "white",
                                                "linecolor": "white",
                                                "ticks": ""
                                            },
                                            "bgcolor": "#E5ECF6",
                                            "caxis": {
                                                "gridcolor": "white",
                                                "linecolor": "white",
                                                "ticks": ""
                                            }
                                        },
                                        "title": {
                                            "x": 0.05
                                        },
                                        "xaxis": {
                                            "automargin": true,
                                            "gridcolor": "white",
                                            "linecolor": "white",
                                            "ticks": "",
                                            "title": {
                                                "standoff": 15
                                            },
                                            "zerolinecolor": "white",
                                            "zerolinewidth": 2
                                        },
                                        "yaxis": {
                                            "automargin": true,
                                            "gridcolor": "white",
                                            "linecolor": "white",
                                            "ticks": "",
                                            "title": {
                                                "standoff": 15
                                            },
                                            "zerolinecolor": "white",
                                            "zerolinewidth": 2
                                        }
                                    }
                                },
                                "xaxis": {
                                    "anchor": "y",
                                    "domain": [
                                        0,
                                        1
                                    ],
                                    "title": {
                                        "text": "tourist_arrival"
                                    }
                                },
                                "yaxis": {
                                    "anchor": "x",
                                    "domain": [
                                        0,
                                        1
                                    ],
                                    "title": {
                                        "text": "count"
                                    }
                                }
                            }
                        }
                    },
                    "metadata": {}
                }
            ],
            "metadata": {}
        },
        {
            "cell_type": "markdown",
            "source": [],
            "metadata": {}
        },
        {
            "cell_type": "code",
            "execution_count": 40,
            "source": [
                "#line + (table + histogram)\r\n",
                "def display_time_series_obj(df, y_col):\r\n",
                "    return(go.Scatter(x=df.index, y=df[y_col],\r\n",
                "                    mode='lines',\r\n",
                "                    name='markers'))\r\n",
                "\r\n",
                "def display_histogram_obj(df, y_col):\r\n",
                "    return(go.Histogram(x=df[y_col]))\r\n",
                "\r\n",
                "# Initialize figure with subplots\r\n",
                "fig = make_subplots(rows=1, cols=2, column_widths=[0.7, 0.3])\r\n",
                "\r\n",
                "fig.add_trace(\r\n",
                "    display_time_series_obj(df=tourism_clean, y_col = \"tourist_arrival\"),\r\n",
                "    row=1, col=1\r\n",
                ")\r\n",
                "fig.add_trace(\r\n",
                "    display_histogram_obj(df=tourism_clean, y_col ='tourist_arrival'),\r\n",
                "    row=1, col=2\r\n",
                ")\r\n",
                "\r\n",
                "\r\n",
                "fig.show()"
            ],
            "outputs": [
                {
                    "output_type": "display_data",
                    "data": {
                        "application/vnd.plotly.v1+json": {
                            "config": {
                                "plotlyServerURL": "https://plot.ly"
                            },
                            "data": [
                                {
                                    "mode": "lines",
                                    "name": "markers",
                                    "type": "scatter",
                                    "x": [
                                        "2000-01-01T00:00:00",
                                        "2000-02-01T00:00:00",
                                        "2000-03-01T00:00:00",
                                        "2000-04-01T00:00:00",
                                        "2000-05-01T00:00:00",
                                        "2000-06-01T00:00:00",
                                        "2000-07-01T00:00:00",
                                        "2000-08-01T00:00:00",
                                        "2000-09-01T00:00:00",
                                        "2000-10-01T00:00:00",
                                        "2000-11-01T00:00:00",
                                        "2000-12-01T00:00:00",
                                        "2001-01-01T00:00:00",
                                        "2001-02-01T00:00:00",
                                        "2001-03-01T00:00:00",
                                        "2001-04-01T00:00:00",
                                        "2001-05-01T00:00:00",
                                        "2001-06-01T00:00:00",
                                        "2001-07-01T00:00:00",
                                        "2001-08-01T00:00:00",
                                        "2001-09-01T00:00:00",
                                        "2001-10-01T00:00:00",
                                        "2001-11-01T00:00:00",
                                        "2001-12-01T00:00:00",
                                        "2002-01-01T00:00:00",
                                        "2002-02-01T00:00:00",
                                        "2002-03-01T00:00:00",
                                        "2002-04-01T00:00:00",
                                        "2002-05-01T00:00:00",
                                        "2002-06-01T00:00:00",
                                        "2002-07-01T00:00:00",
                                        "2002-08-01T00:00:00",
                                        "2002-09-01T00:00:00",
                                        "2002-10-01T00:00:00",
                                        "2002-11-01T00:00:00",
                                        "2002-12-01T00:00:00",
                                        "2003-01-01T00:00:00",
                                        "2003-02-01T00:00:00",
                                        "2003-03-01T00:00:00",
                                        "2003-04-01T00:00:00",
                                        "2003-05-01T00:00:00",
                                        "2003-06-01T00:00:00",
                                        "2003-07-01T00:00:00",
                                        "2003-08-01T00:00:00",
                                        "2003-09-01T00:00:00",
                                        "2003-10-01T00:00:00",
                                        "2003-11-01T00:00:00",
                                        "2003-12-01T00:00:00",
                                        "2004-01-01T00:00:00",
                                        "2004-02-01T00:00:00",
                                        "2004-03-01T00:00:00",
                                        "2004-04-01T00:00:00",
                                        "2004-05-01T00:00:00",
                                        "2004-06-01T00:00:00",
                                        "2004-07-01T00:00:00",
                                        "2004-08-01T00:00:00",
                                        "2004-09-01T00:00:00",
                                        "2004-10-01T00:00:00",
                                        "2004-11-01T00:00:00",
                                        "2004-12-01T00:00:00",
                                        "2005-01-01T00:00:00",
                                        "2005-02-01T00:00:00",
                                        "2005-03-01T00:00:00",
                                        "2005-04-01T00:00:00",
                                        "2005-05-01T00:00:00",
                                        "2005-06-01T00:00:00",
                                        "2005-07-01T00:00:00",
                                        "2005-08-01T00:00:00",
                                        "2005-09-01T00:00:00",
                                        "2005-10-01T00:00:00",
                                        "2005-11-01T00:00:00",
                                        "2005-12-01T00:00:00",
                                        "2006-01-01T00:00:00",
                                        "2006-02-01T00:00:00",
                                        "2006-03-01T00:00:00",
                                        "2006-04-01T00:00:00",
                                        "2006-05-01T00:00:00",
                                        "2006-06-01T00:00:00",
                                        "2006-07-01T00:00:00",
                                        "2006-08-01T00:00:00",
                                        "2006-09-01T00:00:00",
                                        "2006-10-01T00:00:00",
                                        "2006-11-01T00:00:00",
                                        "2006-12-01T00:00:00",
                                        "2007-01-01T00:00:00",
                                        "2007-02-01T00:00:00",
                                        "2007-03-01T00:00:00",
                                        "2007-04-01T00:00:00",
                                        "2007-05-01T00:00:00",
                                        "2007-06-01T00:00:00",
                                        "2007-07-01T00:00:00",
                                        "2007-08-01T00:00:00",
                                        "2007-09-01T00:00:00",
                                        "2007-10-01T00:00:00",
                                        "2007-11-01T00:00:00",
                                        "2007-12-01T00:00:00",
                                        "2008-01-01T00:00:00",
                                        "2008-02-01T00:00:00",
                                        "2008-03-01T00:00:00",
                                        "2008-04-01T00:00:00",
                                        "2008-05-01T00:00:00",
                                        "2008-06-01T00:00:00",
                                        "2008-07-01T00:00:00",
                                        "2008-08-01T00:00:00",
                                        "2008-09-01T00:00:00",
                                        "2008-10-01T00:00:00",
                                        "2008-11-01T00:00:00",
                                        "2008-12-01T00:00:00",
                                        "2009-01-01T00:00:00",
                                        "2009-02-01T00:00:00",
                                        "2009-03-01T00:00:00",
                                        "2009-04-01T00:00:00",
                                        "2009-05-01T00:00:00",
                                        "2009-06-01T00:00:00",
                                        "2009-07-01T00:00:00",
                                        "2009-08-01T00:00:00",
                                        "2009-09-01T00:00:00",
                                        "2009-10-01T00:00:00",
                                        "2009-11-01T00:00:00",
                                        "2009-12-01T00:00:00",
                                        "2010-01-01T00:00:00",
                                        "2010-02-01T00:00:00",
                                        "2010-03-01T00:00:00",
                                        "2010-04-01T00:00:00",
                                        "2010-05-01T00:00:00",
                                        "2010-06-01T00:00:00",
                                        "2010-07-01T00:00:00",
                                        "2010-08-01T00:00:00",
                                        "2010-09-01T00:00:00",
                                        "2010-10-01T00:00:00",
                                        "2010-11-01T00:00:00",
                                        "2010-12-01T00:00:00",
                                        "2011-01-01T00:00:00",
                                        "2011-02-01T00:00:00",
                                        "2011-03-01T00:00:00",
                                        "2011-04-01T00:00:00",
                                        "2011-05-01T00:00:00",
                                        "2011-06-01T00:00:00",
                                        "2011-07-01T00:00:00",
                                        "2011-08-01T00:00:00",
                                        "2011-09-01T00:00:00",
                                        "2011-10-01T00:00:00",
                                        "2011-11-01T00:00:00",
                                        "2011-12-01T00:00:00",
                                        "2012-01-01T00:00:00",
                                        "2012-02-01T00:00:00",
                                        "2012-03-01T00:00:00",
                                        "2012-04-01T00:00:00",
                                        "2012-05-01T00:00:00",
                                        "2012-06-01T00:00:00",
                                        "2012-07-01T00:00:00",
                                        "2012-08-01T00:00:00",
                                        "2012-09-01T00:00:00",
                                        "2012-10-01T00:00:00",
                                        "2012-11-01T00:00:00",
                                        "2012-12-01T00:00:00",
                                        "2013-01-01T00:00:00",
                                        "2013-02-01T00:00:00",
                                        "2013-03-01T00:00:00",
                                        "2013-04-01T00:00:00",
                                        "2013-05-01T00:00:00",
                                        "2013-06-01T00:00:00",
                                        "2013-07-01T00:00:00",
                                        "2013-08-01T00:00:00",
                                        "2013-09-01T00:00:00",
                                        "2013-10-01T00:00:00",
                                        "2013-11-01T00:00:00",
                                        "2013-12-01T00:00:00",
                                        "2014-01-01T00:00:00",
                                        "2014-02-01T00:00:00",
                                        "2014-03-01T00:00:00",
                                        "2014-04-01T00:00:00",
                                        "2014-05-01T00:00:00",
                                        "2014-06-01T00:00:00",
                                        "2014-07-01T00:00:00",
                                        "2014-08-01T00:00:00",
                                        "2014-09-01T00:00:00",
                                        "2014-10-01T00:00:00",
                                        "2014-11-01T00:00:00",
                                        "2014-12-01T00:00:00",
                                        "2015-01-01T00:00:00",
                                        "2015-02-01T00:00:00",
                                        "2015-03-01T00:00:00",
                                        "2015-04-01T00:00:00",
                                        "2015-05-01T00:00:00",
                                        "2015-06-01T00:00:00",
                                        "2015-07-01T00:00:00",
                                        "2015-08-01T00:00:00",
                                        "2015-09-01T00:00:00",
                                        "2015-10-01T00:00:00",
                                        "2015-11-01T00:00:00",
                                        "2015-12-01T00:00:00",
                                        "2016-01-01T00:00:00",
                                        "2016-02-01T00:00:00",
                                        "2016-03-01T00:00:00",
                                        "2016-04-01T00:00:00",
                                        "2016-05-01T00:00:00",
                                        "2016-06-01T00:00:00",
                                        "2016-07-01T00:00:00",
                                        "2016-08-01T00:00:00",
                                        "2016-09-01T00:00:00",
                                        "2016-10-01T00:00:00",
                                        "2016-11-01T00:00:00",
                                        "2016-12-01T00:00:00",
                                        "2017-01-01T00:00:00",
                                        "2017-02-01T00:00:00",
                                        "2017-03-01T00:00:00",
                                        "2017-04-01T00:00:00",
                                        "2017-05-01T00:00:00",
                                        "2017-06-01T00:00:00",
                                        "2017-07-01T00:00:00",
                                        "2017-08-01T00:00:00",
                                        "2017-09-01T00:00:00",
                                        "2017-10-01T00:00:00",
                                        "2017-11-01T00:00:00",
                                        "2017-12-01T00:00:00",
                                        "2018-01-01T00:00:00",
                                        "2018-02-01T00:00:00",
                                        "2018-03-01T00:00:00",
                                        "2018-04-01T00:00:00",
                                        "2018-05-01T00:00:00",
                                        "2018-06-01T00:00:00",
                                        "2018-07-01T00:00:00",
                                        "2018-08-01T00:00:00",
                                        "2018-09-01T00:00:00",
                                        "2018-10-01T00:00:00",
                                        "2018-11-01T00:00:00",
                                        "2018-12-01T00:00:00",
                                        "2019-01-01T00:00:00",
                                        "2019-02-01T00:00:00",
                                        "2019-03-01T00:00:00",
                                        "2019-04-01T00:00:00",
                                        "2019-05-01T00:00:00",
                                        "2019-06-01T00:00:00",
                                        "2019-07-01T00:00:00",
                                        "2019-08-01T00:00:00",
                                        "2019-09-01T00:00:00",
                                        "2019-10-01T00:00:00",
                                        "2019-11-01T00:00:00",
                                        "2019-12-01T00:00:00",
                                        "2020-01-01T00:00:00",
                                        "2020-02-01T00:00:00",
                                        "2020-03-01T00:00:00",
                                        "2020-04-01T00:00:00",
                                        "2020-05-01T00:00:00",
                                        "2020-06-01T00:00:00",
                                        "2020-07-01T00:00:00",
                                        "2020-08-01T00:00:00",
                                        "2020-09-01T00:00:00",
                                        "2020-10-01T00:00:00",
                                        "2020-11-01T00:00:00",
                                        "2020-12-01T00:00:00"
                                    ],
                                    "xaxis": "x",
                                    "y": [
                                        731509,
                                        786040,
                                        737678,
                                        916382,
                                        894350,
                                        960782,
                                        811876,
                                        764500,
                                        778587,
                                        990658,
                                        806648,
                                        1042572,
                                        1052854,
                                        1090219,
                                        1492235,
                                        1358776,
                                        1038210,
                                        1308788,
                                        1125504,
                                        1149987,
                                        927206,
                                        596202,
                                        759321,
                                        975771,
                                        834519,
                                        986408,
                                        1272810,
                                        1106053,
                                        1153033,
                                        1297536,
                                        1135691,
                                        1163724,
                                        1029120,
                                        1015946,
                                        1061229,
                                        1253941,
                                        1070428,
                                        985343,
                                        819376,
                                        456374,
                                        541267,
                                        719047,
                                        753029,
                                        826234,
                                        943526,
                                        994858,
                                        1135493,
                                        1328940,
                                        1408378,
                                        1295913,
                                        1274230,
                                        1266824,
                                        1262717,
                                        1381355,
                                        1227052,
                                        1268237,
                                        1326549,
                                        1359498,
                                        1329208,
                                        1303445,
                                        1394032,
                                        1346550,
                                        1419275,
                                        1317749,
                                        1351141,
                                        1339051,
                                        1317276,
                                        1393666,
                                        1335027,
                                        1367735,
                                        1432317,
                                        1417236,
                                        1453803,
                                        1384479,
                                        1541056,
                                        1422576,
                                        1393656,
                                        1368651,
                                        1450319,
                                        1503748,
                                        1384890,
                                        1540070,
                                        1564286,
                                        1539329,
                                        1721786,
                                        1652004,
                                        1906304,
                                        1764868,
                                        1841870,
                                        1803594,
                                        1713951,
                                        1642899,
                                        1601016,
                                        1673922,
                                        1764586,
                                        1886022,
                                        1780134,
                                        1742468,
                                        1819689,
                                        1760326,
                                        1899148,
                                        1961355,
                                        1928082,
                                        1839235,
                                        1599418,
                                        1818304,
                                        1845645,
                                        2058684,
                                        1871099,
                                        1613309,
                                        1975776,
                                        1883873,
                                        1894059,
                                        2108328,
                                        2003724,
                                        2030337,
                                        1997535,
                                        2078485,
                                        2048595,
                                        2141071,
                                        1896918,
                                        1832300,
                                        2022590,
                                        1877934,
                                        1992277,
                                        2246084,
                                        2214092,
                                        2099485,
                                        2053406,
                                        2137735,
                                        2081354,
                                        2123021,
                                        1918751,
                                        1669288,
                                        1952343,
                                        1891350,
                                        1892095,
                                        2039035,
                                        2406100,
                                        2166937,
                                        2094104,
                                        2189014,
                                        2225534,
                                        2269773,
                                        1817061,
                                        1773471,
                                        1972006,
                                        1924129,
                                        1951925,
                                        2193886,
                                        2306675,
                                        2240687,
                                        1973803,
                                        2205979,
                                        2236473,
                                        2436613,
                                        2070394,
                                        2002709,
                                        2376295,
                                        1984982,
                                        2044039,
                                        2074312,
                                        2129393,
                                        1980960,
                                        2093392,
                                        2106569,
                                        2045850,
                                        2806565,
                                        2447397,
                                        2118540,
                                        2525496,
                                        2175009,
                                        2266417,
                                        2342187,
                                        2229920,
                                        2273271,
                                        2233545,
                                        2247666,
                                        2130022,
                                        2447845,
                                        2291603,
                                        1949016,
                                        2242077,
                                        2071922,
                                        2118890,
                                        1893792,
                                        2216049,
                                        2182536,
                                        2084339,
                                        2082866,
                                        2004694,
                                        2583467,
                                        2376166,
                                        2091098,
                                        2198716,
                                        2101280,
                                        2144119,
                                        2121396,
                                        2296615,
                                        2282173,
                                        2118367,
                                        2326487,
                                        2054165,
                                        2646810,
                                        2350270,
                                        2043215,
                                        2238184,
                                        2145734,
                                        2039016,
                                        2134647,
                                        2263478,
                                        2129013,
                                        2092378,
                                        2068995,
                                        2007965,
                                        2435564,
                                        2276750,
                                        2050613,
                                        2192855,
                                        1957248,
                                        1976981,
                                        2275921,
                                        2305324,
                                        2253534,
                                        2096889,
                                        2103975,
                                        1989842,
                                        2352422,
                                        2195684,
                                        2165933,
                                        2334613,
                                        2159517,
                                        2098267,
                                        2400561,
                                        2415097,
                                        2342438,
                                        1997093,
                                        2031198,
                                        1969315,
                                        1991068,
                                        2164459,
                                        1397912,
                                        671084,
                                        7546,
                                        5411,
                                        6585,
                                        18660,
                                        11631,
                                        16131,
                                        11315,
                                        11420,
                                        10568
                                    ],
                                    "yaxis": "y"
                                },
                                {
                                    "type": "histogram",
                                    "x": [
                                        731509,
                                        786040,
                                        737678,
                                        916382,
                                        894350,
                                        960782,
                                        811876,
                                        764500,
                                        778587,
                                        990658,
                                        806648,
                                        1042572,
                                        1052854,
                                        1090219,
                                        1492235,
                                        1358776,
                                        1038210,
                                        1308788,
                                        1125504,
                                        1149987,
                                        927206,
                                        596202,
                                        759321,
                                        975771,
                                        834519,
                                        986408,
                                        1272810,
                                        1106053,
                                        1153033,
                                        1297536,
                                        1135691,
                                        1163724,
                                        1029120,
                                        1015946,
                                        1061229,
                                        1253941,
                                        1070428,
                                        985343,
                                        819376,
                                        456374,
                                        541267,
                                        719047,
                                        753029,
                                        826234,
                                        943526,
                                        994858,
                                        1135493,
                                        1328940,
                                        1408378,
                                        1295913,
                                        1274230,
                                        1266824,
                                        1262717,
                                        1381355,
                                        1227052,
                                        1268237,
                                        1326549,
                                        1359498,
                                        1329208,
                                        1303445,
                                        1394032,
                                        1346550,
                                        1419275,
                                        1317749,
                                        1351141,
                                        1339051,
                                        1317276,
                                        1393666,
                                        1335027,
                                        1367735,
                                        1432317,
                                        1417236,
                                        1453803,
                                        1384479,
                                        1541056,
                                        1422576,
                                        1393656,
                                        1368651,
                                        1450319,
                                        1503748,
                                        1384890,
                                        1540070,
                                        1564286,
                                        1539329,
                                        1721786,
                                        1652004,
                                        1906304,
                                        1764868,
                                        1841870,
                                        1803594,
                                        1713951,
                                        1642899,
                                        1601016,
                                        1673922,
                                        1764586,
                                        1886022,
                                        1780134,
                                        1742468,
                                        1819689,
                                        1760326,
                                        1899148,
                                        1961355,
                                        1928082,
                                        1839235,
                                        1599418,
                                        1818304,
                                        1845645,
                                        2058684,
                                        1871099,
                                        1613309,
                                        1975776,
                                        1883873,
                                        1894059,
                                        2108328,
                                        2003724,
                                        2030337,
                                        1997535,
                                        2078485,
                                        2048595,
                                        2141071,
                                        1896918,
                                        1832300,
                                        2022590,
                                        1877934,
                                        1992277,
                                        2246084,
                                        2214092,
                                        2099485,
                                        2053406,
                                        2137735,
                                        2081354,
                                        2123021,
                                        1918751,
                                        1669288,
                                        1952343,
                                        1891350,
                                        1892095,
                                        2039035,
                                        2406100,
                                        2166937,
                                        2094104,
                                        2189014,
                                        2225534,
                                        2269773,
                                        1817061,
                                        1773471,
                                        1972006,
                                        1924129,
                                        1951925,
                                        2193886,
                                        2306675,
                                        2240687,
                                        1973803,
                                        2205979,
                                        2236473,
                                        2436613,
                                        2070394,
                                        2002709,
                                        2376295,
                                        1984982,
                                        2044039,
                                        2074312,
                                        2129393,
                                        1980960,
                                        2093392,
                                        2106569,
                                        2045850,
                                        2806565,
                                        2447397,
                                        2118540,
                                        2525496,
                                        2175009,
                                        2266417,
                                        2342187,
                                        2229920,
                                        2273271,
                                        2233545,
                                        2247666,
                                        2130022,
                                        2447845,
                                        2291603,
                                        1949016,
                                        2242077,
                                        2071922,
                                        2118890,
                                        1893792,
                                        2216049,
                                        2182536,
                                        2084339,
                                        2082866,
                                        2004694,
                                        2583467,
                                        2376166,
                                        2091098,
                                        2198716,
                                        2101280,
                                        2144119,
                                        2121396,
                                        2296615,
                                        2282173,
                                        2118367,
                                        2326487,
                                        2054165,
                                        2646810,
                                        2350270,
                                        2043215,
                                        2238184,
                                        2145734,
                                        2039016,
                                        2134647,
                                        2263478,
                                        2129013,
                                        2092378,
                                        2068995,
                                        2007965,
                                        2435564,
                                        2276750,
                                        2050613,
                                        2192855,
                                        1957248,
                                        1976981,
                                        2275921,
                                        2305324,
                                        2253534,
                                        2096889,
                                        2103975,
                                        1989842,
                                        2352422,
                                        2195684,
                                        2165933,
                                        2334613,
                                        2159517,
                                        2098267,
                                        2400561,
                                        2415097,
                                        2342438,
                                        1997093,
                                        2031198,
                                        1969315,
                                        1991068,
                                        2164459,
                                        1397912,
                                        671084,
                                        7546,
                                        5411,
                                        6585,
                                        18660,
                                        11631,
                                        16131,
                                        11315,
                                        11420,
                                        10568
                                    ],
                                    "xaxis": "x2",
                                    "yaxis": "y2"
                                }
                            ],
                            "layout": {
                                "template": {
                                    "data": {
                                        "bar": [
                                            {
                                                "error_x": {
                                                    "color": "#2a3f5f"
                                                },
                                                "error_y": {
                                                    "color": "#2a3f5f"
                                                },
                                                "marker": {
                                                    "line": {
                                                        "color": "#E5ECF6",
                                                        "width": 0.5
                                                    },
                                                    "pattern": {
                                                        "fillmode": "overlay",
                                                        "size": 10,
                                                        "solidity": 0.2
                                                    }
                                                },
                                                "type": "bar"
                                            }
                                        ],
                                        "barpolar": [
                                            {
                                                "marker": {
                                                    "line": {
                                                        "color": "#E5ECF6",
                                                        "width": 0.5
                                                    },
                                                    "pattern": {
                                                        "fillmode": "overlay",
                                                        "size": 10,
                                                        "solidity": 0.2
                                                    }
                                                },
                                                "type": "barpolar"
                                            }
                                        ],
                                        "carpet": [
                                            {
                                                "aaxis": {
                                                    "endlinecolor": "#2a3f5f",
                                                    "gridcolor": "white",
                                                    "linecolor": "white",
                                                    "minorgridcolor": "white",
                                                    "startlinecolor": "#2a3f5f"
                                                },
                                                "baxis": {
                                                    "endlinecolor": "#2a3f5f",
                                                    "gridcolor": "white",
                                                    "linecolor": "white",
                                                    "minorgridcolor": "white",
                                                    "startlinecolor": "#2a3f5f"
                                                },
                                                "type": "carpet"
                                            }
                                        ],
                                        "choropleth": [
                                            {
                                                "colorbar": {
                                                    "outlinewidth": 0,
                                                    "ticks": ""
                                                },
                                                "type": "choropleth"
                                            }
                                        ],
                                        "contour": [
                                            {
                                                "colorbar": {
                                                    "outlinewidth": 0,
                                                    "ticks": ""
                                                },
                                                "colorscale": [
                                                    [
                                                        0,
                                                        "#0d0887"
                                                    ],
                                                    [
                                                        0.1111111111111111,
                                                        "#46039f"
                                                    ],
                                                    [
                                                        0.2222222222222222,
                                                        "#7201a8"
                                                    ],
                                                    [
                                                        0.3333333333333333,
                                                        "#9c179e"
                                                    ],
                                                    [
                                                        0.4444444444444444,
                                                        "#bd3786"
                                                    ],
                                                    [
                                                        0.5555555555555556,
                                                        "#d8576b"
                                                    ],
                                                    [
                                                        0.6666666666666666,
                                                        "#ed7953"
                                                    ],
                                                    [
                                                        0.7777777777777778,
                                                        "#fb9f3a"
                                                    ],
                                                    [
                                                        0.8888888888888888,
                                                        "#fdca26"
                                                    ],
                                                    [
                                                        1,
                                                        "#f0f921"
                                                    ]
                                                ],
                                                "type": "contour"
                                            }
                                        ],
                                        "contourcarpet": [
                                            {
                                                "colorbar": {
                                                    "outlinewidth": 0,
                                                    "ticks": ""
                                                },
                                                "type": "contourcarpet"
                                            }
                                        ],
                                        "heatmap": [
                                            {
                                                "colorbar": {
                                                    "outlinewidth": 0,
                                                    "ticks": ""
                                                },
                                                "colorscale": [
                                                    [
                                                        0,
                                                        "#0d0887"
                                                    ],
                                                    [
                                                        0.1111111111111111,
                                                        "#46039f"
                                                    ],
                                                    [
                                                        0.2222222222222222,
                                                        "#7201a8"
                                                    ],
                                                    [
                                                        0.3333333333333333,
                                                        "#9c179e"
                                                    ],
                                                    [
                                                        0.4444444444444444,
                                                        "#bd3786"
                                                    ],
                                                    [
                                                        0.5555555555555556,
                                                        "#d8576b"
                                                    ],
                                                    [
                                                        0.6666666666666666,
                                                        "#ed7953"
                                                    ],
                                                    [
                                                        0.7777777777777778,
                                                        "#fb9f3a"
                                                    ],
                                                    [
                                                        0.8888888888888888,
                                                        "#fdca26"
                                                    ],
                                                    [
                                                        1,
                                                        "#f0f921"
                                                    ]
                                                ],
                                                "type": "heatmap"
                                            }
                                        ],
                                        "heatmapgl": [
                                            {
                                                "colorbar": {
                                                    "outlinewidth": 0,
                                                    "ticks": ""
                                                },
                                                "colorscale": [
                                                    [
                                                        0,
                                                        "#0d0887"
                                                    ],
                                                    [
                                                        0.1111111111111111,
                                                        "#46039f"
                                                    ],
                                                    [
                                                        0.2222222222222222,
                                                        "#7201a8"
                                                    ],
                                                    [
                                                        0.3333333333333333,
                                                        "#9c179e"
                                                    ],
                                                    [
                                                        0.4444444444444444,
                                                        "#bd3786"
                                                    ],
                                                    [
                                                        0.5555555555555556,
                                                        "#d8576b"
                                                    ],
                                                    [
                                                        0.6666666666666666,
                                                        "#ed7953"
                                                    ],
                                                    [
                                                        0.7777777777777778,
                                                        "#fb9f3a"
                                                    ],
                                                    [
                                                        0.8888888888888888,
                                                        "#fdca26"
                                                    ],
                                                    [
                                                        1,
                                                        "#f0f921"
                                                    ]
                                                ],
                                                "type": "heatmapgl"
                                            }
                                        ],
                                        "histogram": [
                                            {
                                                "marker": {
                                                    "pattern": {
                                                        "fillmode": "overlay",
                                                        "size": 10,
                                                        "solidity": 0.2
                                                    }
                                                },
                                                "type": "histogram"
                                            }
                                        ],
                                        "histogram2d": [
                                            {
                                                "colorbar": {
                                                    "outlinewidth": 0,
                                                    "ticks": ""
                                                },
                                                "colorscale": [
                                                    [
                                                        0,
                                                        "#0d0887"
                                                    ],
                                                    [
                                                        0.1111111111111111,
                                                        "#46039f"
                                                    ],
                                                    [
                                                        0.2222222222222222,
                                                        "#7201a8"
                                                    ],
                                                    [
                                                        0.3333333333333333,
                                                        "#9c179e"
                                                    ],
                                                    [
                                                        0.4444444444444444,
                                                        "#bd3786"
                                                    ],
                                                    [
                                                        0.5555555555555556,
                                                        "#d8576b"
                                                    ],
                                                    [
                                                        0.6666666666666666,
                                                        "#ed7953"
                                                    ],
                                                    [
                                                        0.7777777777777778,
                                                        "#fb9f3a"
                                                    ],
                                                    [
                                                        0.8888888888888888,
                                                        "#fdca26"
                                                    ],
                                                    [
                                                        1,
                                                        "#f0f921"
                                                    ]
                                                ],
                                                "type": "histogram2d"
                                            }
                                        ],
                                        "histogram2dcontour": [
                                            {
                                                "colorbar": {
                                                    "outlinewidth": 0,
                                                    "ticks": ""
                                                },
                                                "colorscale": [
                                                    [
                                                        0,
                                                        "#0d0887"
                                                    ],
                                                    [
                                                        0.1111111111111111,
                                                        "#46039f"
                                                    ],
                                                    [
                                                        0.2222222222222222,
                                                        "#7201a8"
                                                    ],
                                                    [
                                                        0.3333333333333333,
                                                        "#9c179e"
                                                    ],
                                                    [
                                                        0.4444444444444444,
                                                        "#bd3786"
                                                    ],
                                                    [
                                                        0.5555555555555556,
                                                        "#d8576b"
                                                    ],
                                                    [
                                                        0.6666666666666666,
                                                        "#ed7953"
                                                    ],
                                                    [
                                                        0.7777777777777778,
                                                        "#fb9f3a"
                                                    ],
                                                    [
                                                        0.8888888888888888,
                                                        "#fdca26"
                                                    ],
                                                    [
                                                        1,
                                                        "#f0f921"
                                                    ]
                                                ],
                                                "type": "histogram2dcontour"
                                            }
                                        ],
                                        "mesh3d": [
                                            {
                                                "colorbar": {
                                                    "outlinewidth": 0,
                                                    "ticks": ""
                                                },
                                                "type": "mesh3d"
                                            }
                                        ],
                                        "parcoords": [
                                            {
                                                "line": {
                                                    "colorbar": {
                                                        "outlinewidth": 0,
                                                        "ticks": ""
                                                    }
                                                },
                                                "type": "parcoords"
                                            }
                                        ],
                                        "pie": [
                                            {
                                                "automargin": true,
                                                "type": "pie"
                                            }
                                        ],
                                        "scatter": [
                                            {
                                                "marker": {
                                                    "colorbar": {
                                                        "outlinewidth": 0,
                                                        "ticks": ""
                                                    }
                                                },
                                                "type": "scatter"
                                            }
                                        ],
                                        "scatter3d": [
                                            {
                                                "line": {
                                                    "colorbar": {
                                                        "outlinewidth": 0,
                                                        "ticks": ""
                                                    }
                                                },
                                                "marker": {
                                                    "colorbar": {
                                                        "outlinewidth": 0,
                                                        "ticks": ""
                                                    }
                                                },
                                                "type": "scatter3d"
                                            }
                                        ],
                                        "scattercarpet": [
                                            {
                                                "marker": {
                                                    "colorbar": {
                                                        "outlinewidth": 0,
                                                        "ticks": ""
                                                    }
                                                },
                                                "type": "scattercarpet"
                                            }
                                        ],
                                        "scattergeo": [
                                            {
                                                "marker": {
                                                    "colorbar": {
                                                        "outlinewidth": 0,
                                                        "ticks": ""
                                                    }
                                                },
                                                "type": "scattergeo"
                                            }
                                        ],
                                        "scattergl": [
                                            {
                                                "marker": {
                                                    "colorbar": {
                                                        "outlinewidth": 0,
                                                        "ticks": ""
                                                    }
                                                },
                                                "type": "scattergl"
                                            }
                                        ],
                                        "scattermapbox": [
                                            {
                                                "marker": {
                                                    "colorbar": {
                                                        "outlinewidth": 0,
                                                        "ticks": ""
                                                    }
                                                },
                                                "type": "scattermapbox"
                                            }
                                        ],
                                        "scatterpolar": [
                                            {
                                                "marker": {
                                                    "colorbar": {
                                                        "outlinewidth": 0,
                                                        "ticks": ""
                                                    }
                                                },
                                                "type": "scatterpolar"
                                            }
                                        ],
                                        "scatterpolargl": [
                                            {
                                                "marker": {
                                                    "colorbar": {
                                                        "outlinewidth": 0,
                                                        "ticks": ""
                                                    }
                                                },
                                                "type": "scatterpolargl"
                                            }
                                        ],
                                        "scatterternary": [
                                            {
                                                "marker": {
                                                    "colorbar": {
                                                        "outlinewidth": 0,
                                                        "ticks": ""
                                                    }
                                                },
                                                "type": "scatterternary"
                                            }
                                        ],
                                        "surface": [
                                            {
                                                "colorbar": {
                                                    "outlinewidth": 0,
                                                    "ticks": ""
                                                },
                                                "colorscale": [
                                                    [
                                                        0,
                                                        "#0d0887"
                                                    ],
                                                    [
                                                        0.1111111111111111,
                                                        "#46039f"
                                                    ],
                                                    [
                                                        0.2222222222222222,
                                                        "#7201a8"
                                                    ],
                                                    [
                                                        0.3333333333333333,
                                                        "#9c179e"
                                                    ],
                                                    [
                                                        0.4444444444444444,
                                                        "#bd3786"
                                                    ],
                                                    [
                                                        0.5555555555555556,
                                                        "#d8576b"
                                                    ],
                                                    [
                                                        0.6666666666666666,
                                                        "#ed7953"
                                                    ],
                                                    [
                                                        0.7777777777777778,
                                                        "#fb9f3a"
                                                    ],
                                                    [
                                                        0.8888888888888888,
                                                        "#fdca26"
                                                    ],
                                                    [
                                                        1,
                                                        "#f0f921"
                                                    ]
                                                ],
                                                "type": "surface"
                                            }
                                        ],
                                        "table": [
                                            {
                                                "cells": {
                                                    "fill": {
                                                        "color": "#EBF0F8"
                                                    },
                                                    "line": {
                                                        "color": "white"
                                                    }
                                                },
                                                "header": {
                                                    "fill": {
                                                        "color": "#C8D4E3"
                                                    },
                                                    "line": {
                                                        "color": "white"
                                                    }
                                                },
                                                "type": "table"
                                            }
                                        ]
                                    },
                                    "layout": {
                                        "annotationdefaults": {
                                            "arrowcolor": "#2a3f5f",
                                            "arrowhead": 0,
                                            "arrowwidth": 1
                                        },
                                        "autotypenumbers": "strict",
                                        "coloraxis": {
                                            "colorbar": {
                                                "outlinewidth": 0,
                                                "ticks": ""
                                            }
                                        },
                                        "colorscale": {
                                            "diverging": [
                                                [
                                                    0,
                                                    "#8e0152"
                                                ],
                                                [
                                                    0.1,
                                                    "#c51b7d"
                                                ],
                                                [
                                                    0.2,
                                                    "#de77ae"
                                                ],
                                                [
                                                    0.3,
                                                    "#f1b6da"
                                                ],
                                                [
                                                    0.4,
                                                    "#fde0ef"
                                                ],
                                                [
                                                    0.5,
                                                    "#f7f7f7"
                                                ],
                                                [
                                                    0.6,
                                                    "#e6f5d0"
                                                ],
                                                [
                                                    0.7,
                                                    "#b8e186"
                                                ],
                                                [
                                                    0.8,
                                                    "#7fbc41"
                                                ],
                                                [
                                                    0.9,
                                                    "#4d9221"
                                                ],
                                                [
                                                    1,
                                                    "#276419"
                                                ]
                                            ],
                                            "sequential": [
                                                [
                                                    0,
                                                    "#0d0887"
                                                ],
                                                [
                                                    0.1111111111111111,
                                                    "#46039f"
                                                ],
                                                [
                                                    0.2222222222222222,
                                                    "#7201a8"
                                                ],
                                                [
                                                    0.3333333333333333,
                                                    "#9c179e"
                                                ],
                                                [
                                                    0.4444444444444444,
                                                    "#bd3786"
                                                ],
                                                [
                                                    0.5555555555555556,
                                                    "#d8576b"
                                                ],
                                                [
                                                    0.6666666666666666,
                                                    "#ed7953"
                                                ],
                                                [
                                                    0.7777777777777778,
                                                    "#fb9f3a"
                                                ],
                                                [
                                                    0.8888888888888888,
                                                    "#fdca26"
                                                ],
                                                [
                                                    1,
                                                    "#f0f921"
                                                ]
                                            ],
                                            "sequentialminus": [
                                                [
                                                    0,
                                                    "#0d0887"
                                                ],
                                                [
                                                    0.1111111111111111,
                                                    "#46039f"
                                                ],
                                                [
                                                    0.2222222222222222,
                                                    "#7201a8"
                                                ],
                                                [
                                                    0.3333333333333333,
                                                    "#9c179e"
                                                ],
                                                [
                                                    0.4444444444444444,
                                                    "#bd3786"
                                                ],
                                                [
                                                    0.5555555555555556,
                                                    "#d8576b"
                                                ],
                                                [
                                                    0.6666666666666666,
                                                    "#ed7953"
                                                ],
                                                [
                                                    0.7777777777777778,
                                                    "#fb9f3a"
                                                ],
                                                [
                                                    0.8888888888888888,
                                                    "#fdca26"
                                                ],
                                                [
                                                    1,
                                                    "#f0f921"
                                                ]
                                            ]
                                        },
                                        "colorway": [
                                            "#636efa",
                                            "#EF553B",
                                            "#00cc96",
                                            "#ab63fa",
                                            "#FFA15A",
                                            "#19d3f3",
                                            "#FF6692",
                                            "#B6E880",
                                            "#FF97FF",
                                            "#FECB52"
                                        ],
                                        "font": {
                                            "color": "#2a3f5f"
                                        },
                                        "geo": {
                                            "bgcolor": "white",
                                            "lakecolor": "white",
                                            "landcolor": "#E5ECF6",
                                            "showlakes": true,
                                            "showland": true,
                                            "subunitcolor": "white"
                                        },
                                        "hoverlabel": {
                                            "align": "left"
                                        },
                                        "hovermode": "closest",
                                        "mapbox": {
                                            "style": "light"
                                        },
                                        "paper_bgcolor": "white",
                                        "plot_bgcolor": "#E5ECF6",
                                        "polar": {
                                            "angularaxis": {
                                                "gridcolor": "white",
                                                "linecolor": "white",
                                                "ticks": ""
                                            },
                                            "bgcolor": "#E5ECF6",
                                            "radialaxis": {
                                                "gridcolor": "white",
                                                "linecolor": "white",
                                                "ticks": ""
                                            }
                                        },
                                        "scene": {
                                            "xaxis": {
                                                "backgroundcolor": "#E5ECF6",
                                                "gridcolor": "white",
                                                "gridwidth": 2,
                                                "linecolor": "white",
                                                "showbackground": true,
                                                "ticks": "",
                                                "zerolinecolor": "white"
                                            },
                                            "yaxis": {
                                                "backgroundcolor": "#E5ECF6",
                                                "gridcolor": "white",
                                                "gridwidth": 2,
                                                "linecolor": "white",
                                                "showbackground": true,
                                                "ticks": "",
                                                "zerolinecolor": "white"
                                            },
                                            "zaxis": {
                                                "backgroundcolor": "#E5ECF6",
                                                "gridcolor": "white",
                                                "gridwidth": 2,
                                                "linecolor": "white",
                                                "showbackground": true,
                                                "ticks": "",
                                                "zerolinecolor": "white"
                                            }
                                        },
                                        "shapedefaults": {
                                            "line": {
                                                "color": "#2a3f5f"
                                            }
                                        },
                                        "ternary": {
                                            "aaxis": {
                                                "gridcolor": "white",
                                                "linecolor": "white",
                                                "ticks": ""
                                            },
                                            "baxis": {
                                                "gridcolor": "white",
                                                "linecolor": "white",
                                                "ticks": ""
                                            },
                                            "bgcolor": "#E5ECF6",
                                            "caxis": {
                                                "gridcolor": "white",
                                                "linecolor": "white",
                                                "ticks": ""
                                            }
                                        },
                                        "title": {
                                            "x": 0.05
                                        },
                                        "xaxis": {
                                            "automargin": true,
                                            "gridcolor": "white",
                                            "linecolor": "white",
                                            "ticks": "",
                                            "title": {
                                                "standoff": 15
                                            },
                                            "zerolinecolor": "white",
                                            "zerolinewidth": 2
                                        },
                                        "yaxis": {
                                            "automargin": true,
                                            "gridcolor": "white",
                                            "linecolor": "white",
                                            "ticks": "",
                                            "title": {
                                                "standoff": 15
                                            },
                                            "zerolinecolor": "white",
                                            "zerolinewidth": 2
                                        }
                                    }
                                },
                                "xaxis": {
                                    "anchor": "y",
                                    "domain": [
                                        0,
                                        0.63
                                    ]
                                },
                                "xaxis2": {
                                    "anchor": "y2",
                                    "domain": [
                                        0.73,
                                        1
                                    ]
                                },
                                "yaxis": {
                                    "anchor": "x",
                                    "domain": [
                                        0,
                                        1
                                    ]
                                },
                                "yaxis2": {
                                    "anchor": "x2",
                                    "domain": [
                                        0,
                                        1
                                    ]
                                }
                            }
                        }
                    },
                    "metadata": {}
                }
            ],
            "metadata": {}
        },
        {
            "cell_type": "code",
            "execution_count": null,
            "source": [],
            "outputs": [],
            "metadata": {}
        }
    ],
    "metadata": {
        "orig_nbformat": 4,
        "language_info": {
            "name": "python",
            "version": "3.8.11",
            "mimetype": "text/x-python",
            "codemirror_mode": {
                "name": "ipython",
                "version": 3
            },
            "pygments_lexer": "ipython3",
            "nbconvert_exporter": "python",
            "file_extension": ".py"
        },
        "kernelspec": {
            "name": "python3",
            "display_name": "Python 3.8.11 64-bit ('data-science': conda)"
        },
        "interpreter": {
            "hash": "31737677780747fb6f0c0918fb1287143887628960923e9bfd8ad9482ae666bb"
        }
    },
    "nbformat": 4,
    "nbformat_minor": 2
}